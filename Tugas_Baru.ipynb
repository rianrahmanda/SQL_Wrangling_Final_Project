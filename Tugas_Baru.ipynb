{
  "nbformat": 4,
  "nbformat_minor": 0,
  "metadata": {
    "colab": {
      "provenance": []
    },
    "kernelspec": {
      "name": "python3",
      "display_name": "Python 3"
    },
    "language_info": {
      "name": "python"
    }
  },
  "cells": [
    {
      "cell_type": "code",
      "execution_count": null,
      "metadata": {
        "id": "50Z63tRbny3w"
      },
      "outputs": [],
      "source": [
        "import pandas as pd\n",
        "import sqlite3\n",
        "import matplotlib.pyplot as plt\n",
        "import seaborn as sns"
      ]
    },
    {
      "cell_type": "code",
      "source": [
        "from google.colab import drive\n",
        "drive.mount('/content/drive')"
      ],
      "metadata": {
        "colab": {
          "base_uri": "https://localhost:8080/"
        },
        "id": "g8exzuKtn6Ve",
        "outputId": "a84c6654-2d0a-4504-9fe6-873f0a7106af"
      },
      "execution_count": null,
      "outputs": [
        {
          "output_type": "stream",
          "name": "stdout",
          "text": [
            "Drive already mounted at /content/drive; to attempt to forcibly remount, call drive.mount(\"/content/drive\", force_remount=True).\n"
          ]
        }
      ]
    },
    {
      "cell_type": "code",
      "source": [
        "conn = sqlite3.connect('/content/drive/MyDrive/Pacmann/olist.db')"
      ],
      "metadata": {
        "id": "NfICkPp7oG57"
      },
      "execution_count": null,
      "outputs": []
    },
    {
      "cell_type": "code",
      "source": [
        "# Mendapatkan daftar nama table di database\n",
        "cursor = conn.cursor()\n",
        "cursor.execute(\"SELECT tbl_name FROM sqlite_master WHERE type='table';\")\n",
        "table_names = cursor.fetchall()\n",
        "table_names = [table[0] for table in table_names]\n",
        "print(\"Table names:\", table_names)"
      ],
      "metadata": {
        "colab": {
          "base_uri": "https://localhost:8080/"
        },
        "id": "u2OokCYToLLy",
        "outputId": "ceedeed7-3af8-4411-97cb-0cd394423762"
      },
      "execution_count": null,
      "outputs": [
        {
          "output_type": "stream",
          "name": "stdout",
          "text": [
            "Table names: ['olist_order_customer_dataset', 'olist_order_dataset', 'olist_order_reviews_dataset', 'olist_order_payments_dataset', 'olist_order_items_dataset', 'olist_products_dataset', 'olist_sellers_dataset', 'olist_geolocation_dataset', 'product_category_name_translation']\n"
          ]
        }
      ]
    },
    {
      "cell_type": "markdown",
      "source": [
        "Pada tugas akhir ini, fokus yang dipilih adalah analisa penjualan. Hal pertama yang ingin dilakukan terkait penjualan adalah total penjualan. Total penjualan didapatkan dengan menghitung total pendapatan yang dihasilkan dari penjualan produk. Table yang dilihat untuk melakukan analisa penjualan adalah **order_items** dan **order_payments**."
      ],
      "metadata": {
        "id": "7EsnVuDQonP0"
      }
    },
    {
      "cell_type": "code",
      "source": [
        "#data understanding untuk table order_items\n",
        "\n",
        "table_order_items = 'olist_order_items_dataset'\n",
        "# Query to retrieve data from the specified table\n",
        "query = f\"SELECT * FROM {table_order_items}\"\n",
        "\n",
        "# Read data into a DataFrame\n",
        "df_order_items = pd.read_sql(query, conn)\n",
        "df_order_items.head()"
      ],
      "metadata": {
        "colab": {
          "base_uri": "https://localhost:8080/",
          "height": 226
        },
        "id": "dwEop990pmUQ",
        "outputId": "c02897fd-69dd-4a33-c771-f5faff3f084a"
      },
      "execution_count": null,
      "outputs": [
        {
          "output_type": "execute_result",
          "data": {
            "text/plain": [
              "   index                          order_id  order_item_id  \\\n",
              "0      0  00010242fe8c5a6d1ba2dd792cb16214              1   \n",
              "1      1  00018f77f2f0320c557190d7a144bdd3              1   \n",
              "2      2  000229ec398224ef6ca0657da4fc703e              1   \n",
              "3      3  00024acbcdf0a6daa1e931b038114c75              1   \n",
              "4      4  00042b26cf59d7ce69dfabb4e55b4fd9              1   \n",
              "\n",
              "                         product_id                         seller_id  \\\n",
              "0  4244733e06e7ecb4970a6e2683c13e61  48436dade18ac8b2bce089ec2a041202   \n",
              "1  e5f2d52b802189ee658865ca93d83a8f  dd7ddc04e1b6c2c614352b383efe2d36   \n",
              "2  c777355d18b72b67abbeef9df44fd0fd  5b51032eddd242adc84c38acab88f23d   \n",
              "3  7634da152a4610f1595efa32f14722fc  9d7a1d34a5052409006425275ba1c2b4   \n",
              "4  ac6c3623068f30de03045865e4e10089  df560393f3a51e74553ab94004ba5c87   \n",
              "\n",
              "   shipping_limit_date   price  freight_value  \n",
              "0  2017-09-19 09:45:35   58.90          13.29  \n",
              "1  2017-05-03 11:05:13  239.90          19.93  \n",
              "2  2018-01-18 14:48:30  199.00          17.87  \n",
              "3  2018-08-15 10:10:18   12.99          12.79  \n",
              "4  2017-02-13 13:57:51  199.90          18.14  "
            ],
            "text/html": [
              "\n",
              "  <div id=\"df-579d9539-fc51-48e8-9dba-79df51680eda\" class=\"colab-df-container\">\n",
              "    <div>\n",
              "<style scoped>\n",
              "    .dataframe tbody tr th:only-of-type {\n",
              "        vertical-align: middle;\n",
              "    }\n",
              "\n",
              "    .dataframe tbody tr th {\n",
              "        vertical-align: top;\n",
              "    }\n",
              "\n",
              "    .dataframe thead th {\n",
              "        text-align: right;\n",
              "    }\n",
              "</style>\n",
              "<table border=\"1\" class=\"dataframe\">\n",
              "  <thead>\n",
              "    <tr style=\"text-align: right;\">\n",
              "      <th></th>\n",
              "      <th>index</th>\n",
              "      <th>order_id</th>\n",
              "      <th>order_item_id</th>\n",
              "      <th>product_id</th>\n",
              "      <th>seller_id</th>\n",
              "      <th>shipping_limit_date</th>\n",
              "      <th>price</th>\n",
              "      <th>freight_value</th>\n",
              "    </tr>\n",
              "  </thead>\n",
              "  <tbody>\n",
              "    <tr>\n",
              "      <th>0</th>\n",
              "      <td>0</td>\n",
              "      <td>00010242fe8c5a6d1ba2dd792cb16214</td>\n",
              "      <td>1</td>\n",
              "      <td>4244733e06e7ecb4970a6e2683c13e61</td>\n",
              "      <td>48436dade18ac8b2bce089ec2a041202</td>\n",
              "      <td>2017-09-19 09:45:35</td>\n",
              "      <td>58.90</td>\n",
              "      <td>13.29</td>\n",
              "    </tr>\n",
              "    <tr>\n",
              "      <th>1</th>\n",
              "      <td>1</td>\n",
              "      <td>00018f77f2f0320c557190d7a144bdd3</td>\n",
              "      <td>1</td>\n",
              "      <td>e5f2d52b802189ee658865ca93d83a8f</td>\n",
              "      <td>dd7ddc04e1b6c2c614352b383efe2d36</td>\n",
              "      <td>2017-05-03 11:05:13</td>\n",
              "      <td>239.90</td>\n",
              "      <td>19.93</td>\n",
              "    </tr>\n",
              "    <tr>\n",
              "      <th>2</th>\n",
              "      <td>2</td>\n",
              "      <td>000229ec398224ef6ca0657da4fc703e</td>\n",
              "      <td>1</td>\n",
              "      <td>c777355d18b72b67abbeef9df44fd0fd</td>\n",
              "      <td>5b51032eddd242adc84c38acab88f23d</td>\n",
              "      <td>2018-01-18 14:48:30</td>\n",
              "      <td>199.00</td>\n",
              "      <td>17.87</td>\n",
              "    </tr>\n",
              "    <tr>\n",
              "      <th>3</th>\n",
              "      <td>3</td>\n",
              "      <td>00024acbcdf0a6daa1e931b038114c75</td>\n",
              "      <td>1</td>\n",
              "      <td>7634da152a4610f1595efa32f14722fc</td>\n",
              "      <td>9d7a1d34a5052409006425275ba1c2b4</td>\n",
              "      <td>2018-08-15 10:10:18</td>\n",
              "      <td>12.99</td>\n",
              "      <td>12.79</td>\n",
              "    </tr>\n",
              "    <tr>\n",
              "      <th>4</th>\n",
              "      <td>4</td>\n",
              "      <td>00042b26cf59d7ce69dfabb4e55b4fd9</td>\n",
              "      <td>1</td>\n",
              "      <td>ac6c3623068f30de03045865e4e10089</td>\n",
              "      <td>df560393f3a51e74553ab94004ba5c87</td>\n",
              "      <td>2017-02-13 13:57:51</td>\n",
              "      <td>199.90</td>\n",
              "      <td>18.14</td>\n",
              "    </tr>\n",
              "  </tbody>\n",
              "</table>\n",
              "</div>\n",
              "    <div class=\"colab-df-buttons\">\n",
              "\n",
              "  <div class=\"colab-df-container\">\n",
              "    <button class=\"colab-df-convert\" onclick=\"convertToInteractive('df-579d9539-fc51-48e8-9dba-79df51680eda')\"\n",
              "            title=\"Convert this dataframe to an interactive table.\"\n",
              "            style=\"display:none;\">\n",
              "\n",
              "  <svg xmlns=\"http://www.w3.org/2000/svg\" height=\"24px\" viewBox=\"0 -960 960 960\">\n",
              "    <path d=\"M120-120v-720h720v720H120Zm60-500h600v-160H180v160Zm220 220h160v-160H400v160Zm0 220h160v-160H400v160ZM180-400h160v-160H180v160Zm440 0h160v-160H620v160ZM180-180h160v-160H180v160Zm440 0h160v-160H620v160Z\"/>\n",
              "  </svg>\n",
              "    </button>\n",
              "\n",
              "  <style>\n",
              "    .colab-df-container {\n",
              "      display:flex;\n",
              "      gap: 12px;\n",
              "    }\n",
              "\n",
              "    .colab-df-convert {\n",
              "      background-color: #E8F0FE;\n",
              "      border: none;\n",
              "      border-radius: 50%;\n",
              "      cursor: pointer;\n",
              "      display: none;\n",
              "      fill: #1967D2;\n",
              "      height: 32px;\n",
              "      padding: 0 0 0 0;\n",
              "      width: 32px;\n",
              "    }\n",
              "\n",
              "    .colab-df-convert:hover {\n",
              "      background-color: #E2EBFA;\n",
              "      box-shadow: 0px 1px 2px rgba(60, 64, 67, 0.3), 0px 1px 3px 1px rgba(60, 64, 67, 0.15);\n",
              "      fill: #174EA6;\n",
              "    }\n",
              "\n",
              "    .colab-df-buttons div {\n",
              "      margin-bottom: 4px;\n",
              "    }\n",
              "\n",
              "    [theme=dark] .colab-df-convert {\n",
              "      background-color: #3B4455;\n",
              "      fill: #D2E3FC;\n",
              "    }\n",
              "\n",
              "    [theme=dark] .colab-df-convert:hover {\n",
              "      background-color: #434B5C;\n",
              "      box-shadow: 0px 1px 3px 1px rgba(0, 0, 0, 0.15);\n",
              "      filter: drop-shadow(0px 1px 2px rgba(0, 0, 0, 0.3));\n",
              "      fill: #FFFFFF;\n",
              "    }\n",
              "  </style>\n",
              "\n",
              "    <script>\n",
              "      const buttonEl =\n",
              "        document.querySelector('#df-579d9539-fc51-48e8-9dba-79df51680eda button.colab-df-convert');\n",
              "      buttonEl.style.display =\n",
              "        google.colab.kernel.accessAllowed ? 'block' : 'none';\n",
              "\n",
              "      async function convertToInteractive(key) {\n",
              "        const element = document.querySelector('#df-579d9539-fc51-48e8-9dba-79df51680eda');\n",
              "        const dataTable =\n",
              "          await google.colab.kernel.invokeFunction('convertToInteractive',\n",
              "                                                    [key], {});\n",
              "        if (!dataTable) return;\n",
              "\n",
              "        const docLinkHtml = 'Like what you see? Visit the ' +\n",
              "          '<a target=\"_blank\" href=https://colab.research.google.com/notebooks/data_table.ipynb>data table notebook</a>'\n",
              "          + ' to learn more about interactive tables.';\n",
              "        element.innerHTML = '';\n",
              "        dataTable['output_type'] = 'display_data';\n",
              "        await google.colab.output.renderOutput(dataTable, element);\n",
              "        const docLink = document.createElement('div');\n",
              "        docLink.innerHTML = docLinkHtml;\n",
              "        element.appendChild(docLink);\n",
              "      }\n",
              "    </script>\n",
              "  </div>\n",
              "\n",
              "\n",
              "<div id=\"df-557cbfd8-f359-42c2-951c-77d3d851a945\">\n",
              "  <button class=\"colab-df-quickchart\" onclick=\"quickchart('df-557cbfd8-f359-42c2-951c-77d3d851a945')\"\n",
              "            title=\"Suggest charts.\"\n",
              "            style=\"display:none;\">\n",
              "\n",
              "<svg xmlns=\"http://www.w3.org/2000/svg\" height=\"24px\"viewBox=\"0 0 24 24\"\n",
              "     width=\"24px\">\n",
              "    <g>\n",
              "        <path d=\"M19 3H5c-1.1 0-2 .9-2 2v14c0 1.1.9 2 2 2h14c1.1 0 2-.9 2-2V5c0-1.1-.9-2-2-2zM9 17H7v-7h2v7zm4 0h-2V7h2v10zm4 0h-2v-4h2v4z\"/>\n",
              "    </g>\n",
              "</svg>\n",
              "  </button>\n",
              "\n",
              "<style>\n",
              "  .colab-df-quickchart {\n",
              "    background-color: #E8F0FE;\n",
              "    border: none;\n",
              "    border-radius: 50%;\n",
              "    cursor: pointer;\n",
              "    display: none;\n",
              "    fill: #1967D2;\n",
              "    height: 32px;\n",
              "    padding: 0 0 0 0;\n",
              "    width: 32px;\n",
              "  }\n",
              "\n",
              "  .colab-df-quickchart:hover {\n",
              "    background-color: #E2EBFA;\n",
              "    box-shadow: 0px 1px 2px rgba(60, 64, 67, 0.3), 0px 1px 3px 1px rgba(60, 64, 67, 0.15);\n",
              "    fill: #174EA6;\n",
              "  }\n",
              "\n",
              "  [theme=dark] .colab-df-quickchart {\n",
              "    background-color: #3B4455;\n",
              "    fill: #D2E3FC;\n",
              "  }\n",
              "\n",
              "  [theme=dark] .colab-df-quickchart:hover {\n",
              "    background-color: #434B5C;\n",
              "    box-shadow: 0px 1px 3px 1px rgba(0, 0, 0, 0.15);\n",
              "    filter: drop-shadow(0px 1px 2px rgba(0, 0, 0, 0.3));\n",
              "    fill: #FFFFFF;\n",
              "  }\n",
              "</style>\n",
              "\n",
              "  <script>\n",
              "    async function quickchart(key) {\n",
              "      const charts = await google.colab.kernel.invokeFunction(\n",
              "          'suggestCharts', [key], {});\n",
              "    }\n",
              "    (() => {\n",
              "      let quickchartButtonEl =\n",
              "        document.querySelector('#df-557cbfd8-f359-42c2-951c-77d3d851a945 button');\n",
              "      quickchartButtonEl.style.display =\n",
              "        google.colab.kernel.accessAllowed ? 'block' : 'none';\n",
              "    })();\n",
              "  </script>\n",
              "</div>\n",
              "    </div>\n",
              "  </div>\n"
            ]
          },
          "metadata": {},
          "execution_count": 85
        }
      ]
    },
    {
      "cell_type": "code",
      "source": [
        "#identifikasi data pada tabel order_items apakah memiliki kolom yang memiliki miising values\n",
        "df_order_items_nan_counts = df_order_items.isna().sum()\n",
        "print(df_order_items_nan_counts)\n"
      ],
      "metadata": {
        "colab": {
          "base_uri": "https://localhost:8080/"
        },
        "id": "4u-g25OOqGzU",
        "outputId": "35b429de-1f00-4d9b-f93f-dffd565db13b"
      },
      "execution_count": null,
      "outputs": [
        {
          "output_type": "stream",
          "name": "stdout",
          "text": [
            "index                  0\n",
            "order_id               0\n",
            "order_item_id          0\n",
            "product_id             0\n",
            "seller_id              0\n",
            "shipping_limit_date    0\n",
            "price                  0\n",
            "freight_value          0\n",
            "dtype: int64\n"
          ]
        }
      ]
    },
    {
      "cell_type": "code",
      "source": [
        "#data understanding untuk table order_payments\n",
        "\n",
        "table_order_payments = 'olist_order_payments_dataset'\n",
        "# Query to retrieve data from the specified table\n",
        "query = f\"SELECT * FROM {table_order_payments}\"\n",
        "\n",
        "# Read data into a DataFrame\n",
        "df_order_payments = pd.read_sql(query, conn)\n",
        "df_order_payments.head()"
      ],
      "metadata": {
        "colab": {
          "base_uri": "https://localhost:8080/",
          "height": 206
        },
        "id": "2p-W9mHsqnsR",
        "outputId": "cf3b0183-b512-4fa7-a3c1-bb5a08b06858"
      },
      "execution_count": null,
      "outputs": [
        {
          "output_type": "execute_result",
          "data": {
            "text/plain": [
              "   index                          order_id  payment_sequential payment_type  \\\n",
              "0      0  b81ef226f3fe1789b1e8b2acac839d17                   1  credit_card   \n",
              "1      1  a9810da82917af2d9aefd1278f1dcfa0                   1  credit_card   \n",
              "2      2  25e8ea4e93396b6fa0d3dd708e76c1bd                   1  credit_card   \n",
              "3      3  ba78997921bbcdc1373bb41e913ab953                   1  credit_card   \n",
              "4      4  42fdf880ba16b47b59251dd489d4441a                   1  credit_card   \n",
              "\n",
              "   payment_installments  payment_value  \n",
              "0                     8          99.33  \n",
              "1                     1          24.39  \n",
              "2                     1          65.71  \n",
              "3                     8         107.78  \n",
              "4                     2         128.45  "
            ],
            "text/html": [
              "\n",
              "  <div id=\"df-a4293cae-41aa-405d-8bdd-9a9541d62abe\" class=\"colab-df-container\">\n",
              "    <div>\n",
              "<style scoped>\n",
              "    .dataframe tbody tr th:only-of-type {\n",
              "        vertical-align: middle;\n",
              "    }\n",
              "\n",
              "    .dataframe tbody tr th {\n",
              "        vertical-align: top;\n",
              "    }\n",
              "\n",
              "    .dataframe thead th {\n",
              "        text-align: right;\n",
              "    }\n",
              "</style>\n",
              "<table border=\"1\" class=\"dataframe\">\n",
              "  <thead>\n",
              "    <tr style=\"text-align: right;\">\n",
              "      <th></th>\n",
              "      <th>index</th>\n",
              "      <th>order_id</th>\n",
              "      <th>payment_sequential</th>\n",
              "      <th>payment_type</th>\n",
              "      <th>payment_installments</th>\n",
              "      <th>payment_value</th>\n",
              "    </tr>\n",
              "  </thead>\n",
              "  <tbody>\n",
              "    <tr>\n",
              "      <th>0</th>\n",
              "      <td>0</td>\n",
              "      <td>b81ef226f3fe1789b1e8b2acac839d17</td>\n",
              "      <td>1</td>\n",
              "      <td>credit_card</td>\n",
              "      <td>8</td>\n",
              "      <td>99.33</td>\n",
              "    </tr>\n",
              "    <tr>\n",
              "      <th>1</th>\n",
              "      <td>1</td>\n",
              "      <td>a9810da82917af2d9aefd1278f1dcfa0</td>\n",
              "      <td>1</td>\n",
              "      <td>credit_card</td>\n",
              "      <td>1</td>\n",
              "      <td>24.39</td>\n",
              "    </tr>\n",
              "    <tr>\n",
              "      <th>2</th>\n",
              "      <td>2</td>\n",
              "      <td>25e8ea4e93396b6fa0d3dd708e76c1bd</td>\n",
              "      <td>1</td>\n",
              "      <td>credit_card</td>\n",
              "      <td>1</td>\n",
              "      <td>65.71</td>\n",
              "    </tr>\n",
              "    <tr>\n",
              "      <th>3</th>\n",
              "      <td>3</td>\n",
              "      <td>ba78997921bbcdc1373bb41e913ab953</td>\n",
              "      <td>1</td>\n",
              "      <td>credit_card</td>\n",
              "      <td>8</td>\n",
              "      <td>107.78</td>\n",
              "    </tr>\n",
              "    <tr>\n",
              "      <th>4</th>\n",
              "      <td>4</td>\n",
              "      <td>42fdf880ba16b47b59251dd489d4441a</td>\n",
              "      <td>1</td>\n",
              "      <td>credit_card</td>\n",
              "      <td>2</td>\n",
              "      <td>128.45</td>\n",
              "    </tr>\n",
              "  </tbody>\n",
              "</table>\n",
              "</div>\n",
              "    <div class=\"colab-df-buttons\">\n",
              "\n",
              "  <div class=\"colab-df-container\">\n",
              "    <button class=\"colab-df-convert\" onclick=\"convertToInteractive('df-a4293cae-41aa-405d-8bdd-9a9541d62abe')\"\n",
              "            title=\"Convert this dataframe to an interactive table.\"\n",
              "            style=\"display:none;\">\n",
              "\n",
              "  <svg xmlns=\"http://www.w3.org/2000/svg\" height=\"24px\" viewBox=\"0 -960 960 960\">\n",
              "    <path d=\"M120-120v-720h720v720H120Zm60-500h600v-160H180v160Zm220 220h160v-160H400v160Zm0 220h160v-160H400v160ZM180-400h160v-160H180v160Zm440 0h160v-160H620v160ZM180-180h160v-160H180v160Zm440 0h160v-160H620v160Z\"/>\n",
              "  </svg>\n",
              "    </button>\n",
              "\n",
              "  <style>\n",
              "    .colab-df-container {\n",
              "      display:flex;\n",
              "      gap: 12px;\n",
              "    }\n",
              "\n",
              "    .colab-df-convert {\n",
              "      background-color: #E8F0FE;\n",
              "      border: none;\n",
              "      border-radius: 50%;\n",
              "      cursor: pointer;\n",
              "      display: none;\n",
              "      fill: #1967D2;\n",
              "      height: 32px;\n",
              "      padding: 0 0 0 0;\n",
              "      width: 32px;\n",
              "    }\n",
              "\n",
              "    .colab-df-convert:hover {\n",
              "      background-color: #E2EBFA;\n",
              "      box-shadow: 0px 1px 2px rgba(60, 64, 67, 0.3), 0px 1px 3px 1px rgba(60, 64, 67, 0.15);\n",
              "      fill: #174EA6;\n",
              "    }\n",
              "\n",
              "    .colab-df-buttons div {\n",
              "      margin-bottom: 4px;\n",
              "    }\n",
              "\n",
              "    [theme=dark] .colab-df-convert {\n",
              "      background-color: #3B4455;\n",
              "      fill: #D2E3FC;\n",
              "    }\n",
              "\n",
              "    [theme=dark] .colab-df-convert:hover {\n",
              "      background-color: #434B5C;\n",
              "      box-shadow: 0px 1px 3px 1px rgba(0, 0, 0, 0.15);\n",
              "      filter: drop-shadow(0px 1px 2px rgba(0, 0, 0, 0.3));\n",
              "      fill: #FFFFFF;\n",
              "    }\n",
              "  </style>\n",
              "\n",
              "    <script>\n",
              "      const buttonEl =\n",
              "        document.querySelector('#df-a4293cae-41aa-405d-8bdd-9a9541d62abe button.colab-df-convert');\n",
              "      buttonEl.style.display =\n",
              "        google.colab.kernel.accessAllowed ? 'block' : 'none';\n",
              "\n",
              "      async function convertToInteractive(key) {\n",
              "        const element = document.querySelector('#df-a4293cae-41aa-405d-8bdd-9a9541d62abe');\n",
              "        const dataTable =\n",
              "          await google.colab.kernel.invokeFunction('convertToInteractive',\n",
              "                                                    [key], {});\n",
              "        if (!dataTable) return;\n",
              "\n",
              "        const docLinkHtml = 'Like what you see? Visit the ' +\n",
              "          '<a target=\"_blank\" href=https://colab.research.google.com/notebooks/data_table.ipynb>data table notebook</a>'\n",
              "          + ' to learn more about interactive tables.';\n",
              "        element.innerHTML = '';\n",
              "        dataTable['output_type'] = 'display_data';\n",
              "        await google.colab.output.renderOutput(dataTable, element);\n",
              "        const docLink = document.createElement('div');\n",
              "        docLink.innerHTML = docLinkHtml;\n",
              "        element.appendChild(docLink);\n",
              "      }\n",
              "    </script>\n",
              "  </div>\n",
              "\n",
              "\n",
              "<div id=\"df-d989eb4b-5d89-4bcc-8624-f0f3ca4a2082\">\n",
              "  <button class=\"colab-df-quickchart\" onclick=\"quickchart('df-d989eb4b-5d89-4bcc-8624-f0f3ca4a2082')\"\n",
              "            title=\"Suggest charts.\"\n",
              "            style=\"display:none;\">\n",
              "\n",
              "<svg xmlns=\"http://www.w3.org/2000/svg\" height=\"24px\"viewBox=\"0 0 24 24\"\n",
              "     width=\"24px\">\n",
              "    <g>\n",
              "        <path d=\"M19 3H5c-1.1 0-2 .9-2 2v14c0 1.1.9 2 2 2h14c1.1 0 2-.9 2-2V5c0-1.1-.9-2-2-2zM9 17H7v-7h2v7zm4 0h-2V7h2v10zm4 0h-2v-4h2v4z\"/>\n",
              "    </g>\n",
              "</svg>\n",
              "  </button>\n",
              "\n",
              "<style>\n",
              "  .colab-df-quickchart {\n",
              "    background-color: #E8F0FE;\n",
              "    border: none;\n",
              "    border-radius: 50%;\n",
              "    cursor: pointer;\n",
              "    display: none;\n",
              "    fill: #1967D2;\n",
              "    height: 32px;\n",
              "    padding: 0 0 0 0;\n",
              "    width: 32px;\n",
              "  }\n",
              "\n",
              "  .colab-df-quickchart:hover {\n",
              "    background-color: #E2EBFA;\n",
              "    box-shadow: 0px 1px 2px rgba(60, 64, 67, 0.3), 0px 1px 3px 1px rgba(60, 64, 67, 0.15);\n",
              "    fill: #174EA6;\n",
              "  }\n",
              "\n",
              "  [theme=dark] .colab-df-quickchart {\n",
              "    background-color: #3B4455;\n",
              "    fill: #D2E3FC;\n",
              "  }\n",
              "\n",
              "  [theme=dark] .colab-df-quickchart:hover {\n",
              "    background-color: #434B5C;\n",
              "    box-shadow: 0px 1px 3px 1px rgba(0, 0, 0, 0.15);\n",
              "    filter: drop-shadow(0px 1px 2px rgba(0, 0, 0, 0.3));\n",
              "    fill: #FFFFFF;\n",
              "  }\n",
              "</style>\n",
              "\n",
              "  <script>\n",
              "    async function quickchart(key) {\n",
              "      const charts = await google.colab.kernel.invokeFunction(\n",
              "          'suggestCharts', [key], {});\n",
              "    }\n",
              "    (() => {\n",
              "      let quickchartButtonEl =\n",
              "        document.querySelector('#df-d989eb4b-5d89-4bcc-8624-f0f3ca4a2082 button');\n",
              "      quickchartButtonEl.style.display =\n",
              "        google.colab.kernel.accessAllowed ? 'block' : 'none';\n",
              "    })();\n",
              "  </script>\n",
              "</div>\n",
              "    </div>\n",
              "  </div>\n"
            ]
          },
          "metadata": {},
          "execution_count": 87
        }
      ]
    },
    {
      "cell_type": "code",
      "source": [
        "#identifikasi data pada tabel order_payments apakah memiliki kolom yang memiliki miising values\n",
        "df_order_payments_nan_counts = df_order_payments.isna().sum()\n",
        "print(df_order_payments_nan_counts)"
      ],
      "metadata": {
        "colab": {
          "base_uri": "https://localhost:8080/"
        },
        "id": "0kwCvzk9q8wW",
        "outputId": "cfacfd87-5596-4383-b061-f8b169fc1f07"
      },
      "execution_count": null,
      "outputs": [
        {
          "output_type": "stream",
          "name": "stdout",
          "text": [
            "index                   0\n",
            "order_id                0\n",
            "payment_sequential      0\n",
            "payment_type            0\n",
            "payment_installments    0\n",
            "payment_value           0\n",
            "dtype: int64\n"
          ]
        }
      ]
    },
    {
      "cell_type": "markdown",
      "source": [
        "Setelah dilakukan ekspolari dari tabel **order_items** dan **order_payments**, telihat bahwa tidak ada kolom yang memiliki nilai missing values sehingga tidak perlu dilakukan imputasi. Karena tipe data nya sudah float, maka tidak perlu dikonversi lagi. selanjutnya untuk menganalisa total penjualan kita gabungkan tabel **order_items** dan **order_payments**,"
      ],
      "metadata": {
        "id": "XkulmIrVrQDZ"
      }
    },
    {
      "cell_type": "code",
      "source": [
        "print(df_order_items['price'].dtype)"
      ],
      "metadata": {
        "colab": {
          "base_uri": "https://localhost:8080/"
        },
        "id": "5-yIj3XhsNkD",
        "outputId": "742f1f23-00a7-40b2-d35a-053a68eceb39"
      },
      "execution_count": null,
      "outputs": [
        {
          "output_type": "stream",
          "name": "stdout",
          "text": [
            "float64\n"
          ]
        }
      ]
    },
    {
      "cell_type": "code",
      "source": [
        "# Gabungkan tabel df_order_items_cleaned dan df_order_payments berdasarkan order_id\n",
        "df_merged = pd.merge(df_order_items, df_order_payments, on=\"order_id\")"
      ],
      "metadata": {
        "id": "DG0gMdCIs1O4"
      },
      "execution_count": null,
      "outputs": []
    },
    {
      "cell_type": "code",
      "source": [
        "df_merged.head()"
      ],
      "metadata": {
        "colab": {
          "base_uri": "https://localhost:8080/",
          "height": 226
        },
        "id": "DvKX1ck_uswe",
        "outputId": "88452b3b-e3fb-4747-d32a-b5aad2a17ddc"
      },
      "execution_count": null,
      "outputs": [
        {
          "output_type": "execute_result",
          "data": {
            "text/plain": [
              "   index_x                          order_id  order_item_id  \\\n",
              "0        0  00010242fe8c5a6d1ba2dd792cb16214              1   \n",
              "1        1  00018f77f2f0320c557190d7a144bdd3              1   \n",
              "2        2  000229ec398224ef6ca0657da4fc703e              1   \n",
              "3        3  00024acbcdf0a6daa1e931b038114c75              1   \n",
              "4        4  00042b26cf59d7ce69dfabb4e55b4fd9              1   \n",
              "\n",
              "                         product_id                         seller_id  \\\n",
              "0  4244733e06e7ecb4970a6e2683c13e61  48436dade18ac8b2bce089ec2a041202   \n",
              "1  e5f2d52b802189ee658865ca93d83a8f  dd7ddc04e1b6c2c614352b383efe2d36   \n",
              "2  c777355d18b72b67abbeef9df44fd0fd  5b51032eddd242adc84c38acab88f23d   \n",
              "3  7634da152a4610f1595efa32f14722fc  9d7a1d34a5052409006425275ba1c2b4   \n",
              "4  ac6c3623068f30de03045865e4e10089  df560393f3a51e74553ab94004ba5c87   \n",
              "\n",
              "   shipping_limit_date   price  freight_value  index_y  payment_sequential  \\\n",
              "0  2017-09-19 09:45:35   58.90          13.29    85283                   1   \n",
              "1  2017-05-03 11:05:13  239.90          19.93     2499                   1   \n",
              "2  2018-01-18 14:48:30  199.00          17.87    12393                   1   \n",
              "3  2018-08-15 10:10:18   12.99          12.79    32971                   1   \n",
              "4  2017-02-13 13:57:51  199.90          18.14    98711                   1   \n",
              "\n",
              "  payment_type  payment_installments  payment_value  \n",
              "0  credit_card                     2          72.19  \n",
              "1  credit_card                     3         259.83  \n",
              "2  credit_card                     5         216.87  \n",
              "3  credit_card                     2          25.78  \n",
              "4  credit_card                     3         218.04  "
            ],
            "text/html": [
              "\n",
              "  <div id=\"df-5ea94bbd-743e-40b2-b9ad-13c8e00bdcc2\" class=\"colab-df-container\">\n",
              "    <div>\n",
              "<style scoped>\n",
              "    .dataframe tbody tr th:only-of-type {\n",
              "        vertical-align: middle;\n",
              "    }\n",
              "\n",
              "    .dataframe tbody tr th {\n",
              "        vertical-align: top;\n",
              "    }\n",
              "\n",
              "    .dataframe thead th {\n",
              "        text-align: right;\n",
              "    }\n",
              "</style>\n",
              "<table border=\"1\" class=\"dataframe\">\n",
              "  <thead>\n",
              "    <tr style=\"text-align: right;\">\n",
              "      <th></th>\n",
              "      <th>index_x</th>\n",
              "      <th>order_id</th>\n",
              "      <th>order_item_id</th>\n",
              "      <th>product_id</th>\n",
              "      <th>seller_id</th>\n",
              "      <th>shipping_limit_date</th>\n",
              "      <th>price</th>\n",
              "      <th>freight_value</th>\n",
              "      <th>index_y</th>\n",
              "      <th>payment_sequential</th>\n",
              "      <th>payment_type</th>\n",
              "      <th>payment_installments</th>\n",
              "      <th>payment_value</th>\n",
              "    </tr>\n",
              "  </thead>\n",
              "  <tbody>\n",
              "    <tr>\n",
              "      <th>0</th>\n",
              "      <td>0</td>\n",
              "      <td>00010242fe8c5a6d1ba2dd792cb16214</td>\n",
              "      <td>1</td>\n",
              "      <td>4244733e06e7ecb4970a6e2683c13e61</td>\n",
              "      <td>48436dade18ac8b2bce089ec2a041202</td>\n",
              "      <td>2017-09-19 09:45:35</td>\n",
              "      <td>58.90</td>\n",
              "      <td>13.29</td>\n",
              "      <td>85283</td>\n",
              "      <td>1</td>\n",
              "      <td>credit_card</td>\n",
              "      <td>2</td>\n",
              "      <td>72.19</td>\n",
              "    </tr>\n",
              "    <tr>\n",
              "      <th>1</th>\n",
              "      <td>1</td>\n",
              "      <td>00018f77f2f0320c557190d7a144bdd3</td>\n",
              "      <td>1</td>\n",
              "      <td>e5f2d52b802189ee658865ca93d83a8f</td>\n",
              "      <td>dd7ddc04e1b6c2c614352b383efe2d36</td>\n",
              "      <td>2017-05-03 11:05:13</td>\n",
              "      <td>239.90</td>\n",
              "      <td>19.93</td>\n",
              "      <td>2499</td>\n",
              "      <td>1</td>\n",
              "      <td>credit_card</td>\n",
              "      <td>3</td>\n",
              "      <td>259.83</td>\n",
              "    </tr>\n",
              "    <tr>\n",
              "      <th>2</th>\n",
              "      <td>2</td>\n",
              "      <td>000229ec398224ef6ca0657da4fc703e</td>\n",
              "      <td>1</td>\n",
              "      <td>c777355d18b72b67abbeef9df44fd0fd</td>\n",
              "      <td>5b51032eddd242adc84c38acab88f23d</td>\n",
              "      <td>2018-01-18 14:48:30</td>\n",
              "      <td>199.00</td>\n",
              "      <td>17.87</td>\n",
              "      <td>12393</td>\n",
              "      <td>1</td>\n",
              "      <td>credit_card</td>\n",
              "      <td>5</td>\n",
              "      <td>216.87</td>\n",
              "    </tr>\n",
              "    <tr>\n",
              "      <th>3</th>\n",
              "      <td>3</td>\n",
              "      <td>00024acbcdf0a6daa1e931b038114c75</td>\n",
              "      <td>1</td>\n",
              "      <td>7634da152a4610f1595efa32f14722fc</td>\n",
              "      <td>9d7a1d34a5052409006425275ba1c2b4</td>\n",
              "      <td>2018-08-15 10:10:18</td>\n",
              "      <td>12.99</td>\n",
              "      <td>12.79</td>\n",
              "      <td>32971</td>\n",
              "      <td>1</td>\n",
              "      <td>credit_card</td>\n",
              "      <td>2</td>\n",
              "      <td>25.78</td>\n",
              "    </tr>\n",
              "    <tr>\n",
              "      <th>4</th>\n",
              "      <td>4</td>\n",
              "      <td>00042b26cf59d7ce69dfabb4e55b4fd9</td>\n",
              "      <td>1</td>\n",
              "      <td>ac6c3623068f30de03045865e4e10089</td>\n",
              "      <td>df560393f3a51e74553ab94004ba5c87</td>\n",
              "      <td>2017-02-13 13:57:51</td>\n",
              "      <td>199.90</td>\n",
              "      <td>18.14</td>\n",
              "      <td>98711</td>\n",
              "      <td>1</td>\n",
              "      <td>credit_card</td>\n",
              "      <td>3</td>\n",
              "      <td>218.04</td>\n",
              "    </tr>\n",
              "  </tbody>\n",
              "</table>\n",
              "</div>\n",
              "    <div class=\"colab-df-buttons\">\n",
              "\n",
              "  <div class=\"colab-df-container\">\n",
              "    <button class=\"colab-df-convert\" onclick=\"convertToInteractive('df-5ea94bbd-743e-40b2-b9ad-13c8e00bdcc2')\"\n",
              "            title=\"Convert this dataframe to an interactive table.\"\n",
              "            style=\"display:none;\">\n",
              "\n",
              "  <svg xmlns=\"http://www.w3.org/2000/svg\" height=\"24px\" viewBox=\"0 -960 960 960\">\n",
              "    <path d=\"M120-120v-720h720v720H120Zm60-500h600v-160H180v160Zm220 220h160v-160H400v160Zm0 220h160v-160H400v160ZM180-400h160v-160H180v160Zm440 0h160v-160H620v160ZM180-180h160v-160H180v160Zm440 0h160v-160H620v160Z\"/>\n",
              "  </svg>\n",
              "    </button>\n",
              "\n",
              "  <style>\n",
              "    .colab-df-container {\n",
              "      display:flex;\n",
              "      gap: 12px;\n",
              "    }\n",
              "\n",
              "    .colab-df-convert {\n",
              "      background-color: #E8F0FE;\n",
              "      border: none;\n",
              "      border-radius: 50%;\n",
              "      cursor: pointer;\n",
              "      display: none;\n",
              "      fill: #1967D2;\n",
              "      height: 32px;\n",
              "      padding: 0 0 0 0;\n",
              "      width: 32px;\n",
              "    }\n",
              "\n",
              "    .colab-df-convert:hover {\n",
              "      background-color: #E2EBFA;\n",
              "      box-shadow: 0px 1px 2px rgba(60, 64, 67, 0.3), 0px 1px 3px 1px rgba(60, 64, 67, 0.15);\n",
              "      fill: #174EA6;\n",
              "    }\n",
              "\n",
              "    .colab-df-buttons div {\n",
              "      margin-bottom: 4px;\n",
              "    }\n",
              "\n",
              "    [theme=dark] .colab-df-convert {\n",
              "      background-color: #3B4455;\n",
              "      fill: #D2E3FC;\n",
              "    }\n",
              "\n",
              "    [theme=dark] .colab-df-convert:hover {\n",
              "      background-color: #434B5C;\n",
              "      box-shadow: 0px 1px 3px 1px rgba(0, 0, 0, 0.15);\n",
              "      filter: drop-shadow(0px 1px 2px rgba(0, 0, 0, 0.3));\n",
              "      fill: #FFFFFF;\n",
              "    }\n",
              "  </style>\n",
              "\n",
              "    <script>\n",
              "      const buttonEl =\n",
              "        document.querySelector('#df-5ea94bbd-743e-40b2-b9ad-13c8e00bdcc2 button.colab-df-convert');\n",
              "      buttonEl.style.display =\n",
              "        google.colab.kernel.accessAllowed ? 'block' : 'none';\n",
              "\n",
              "      async function convertToInteractive(key) {\n",
              "        const element = document.querySelector('#df-5ea94bbd-743e-40b2-b9ad-13c8e00bdcc2');\n",
              "        const dataTable =\n",
              "          await google.colab.kernel.invokeFunction('convertToInteractive',\n",
              "                                                    [key], {});\n",
              "        if (!dataTable) return;\n",
              "\n",
              "        const docLinkHtml = 'Like what you see? Visit the ' +\n",
              "          '<a target=\"_blank\" href=https://colab.research.google.com/notebooks/data_table.ipynb>data table notebook</a>'\n",
              "          + ' to learn more about interactive tables.';\n",
              "        element.innerHTML = '';\n",
              "        dataTable['output_type'] = 'display_data';\n",
              "        await google.colab.output.renderOutput(dataTable, element);\n",
              "        const docLink = document.createElement('div');\n",
              "        docLink.innerHTML = docLinkHtml;\n",
              "        element.appendChild(docLink);\n",
              "      }\n",
              "    </script>\n",
              "  </div>\n",
              "\n",
              "\n",
              "<div id=\"df-1091eeb3-893a-491d-843b-959373300a23\">\n",
              "  <button class=\"colab-df-quickchart\" onclick=\"quickchart('df-1091eeb3-893a-491d-843b-959373300a23')\"\n",
              "            title=\"Suggest charts.\"\n",
              "            style=\"display:none;\">\n",
              "\n",
              "<svg xmlns=\"http://www.w3.org/2000/svg\" height=\"24px\"viewBox=\"0 0 24 24\"\n",
              "     width=\"24px\">\n",
              "    <g>\n",
              "        <path d=\"M19 3H5c-1.1 0-2 .9-2 2v14c0 1.1.9 2 2 2h14c1.1 0 2-.9 2-2V5c0-1.1-.9-2-2-2zM9 17H7v-7h2v7zm4 0h-2V7h2v10zm4 0h-2v-4h2v4z\"/>\n",
              "    </g>\n",
              "</svg>\n",
              "  </button>\n",
              "\n",
              "<style>\n",
              "  .colab-df-quickchart {\n",
              "    background-color: #E8F0FE;\n",
              "    border: none;\n",
              "    border-radius: 50%;\n",
              "    cursor: pointer;\n",
              "    display: none;\n",
              "    fill: #1967D2;\n",
              "    height: 32px;\n",
              "    padding: 0 0 0 0;\n",
              "    width: 32px;\n",
              "  }\n",
              "\n",
              "  .colab-df-quickchart:hover {\n",
              "    background-color: #E2EBFA;\n",
              "    box-shadow: 0px 1px 2px rgba(60, 64, 67, 0.3), 0px 1px 3px 1px rgba(60, 64, 67, 0.15);\n",
              "    fill: #174EA6;\n",
              "  }\n",
              "\n",
              "  [theme=dark] .colab-df-quickchart {\n",
              "    background-color: #3B4455;\n",
              "    fill: #D2E3FC;\n",
              "  }\n",
              "\n",
              "  [theme=dark] .colab-df-quickchart:hover {\n",
              "    background-color: #434B5C;\n",
              "    box-shadow: 0px 1px 3px 1px rgba(0, 0, 0, 0.15);\n",
              "    filter: drop-shadow(0px 1px 2px rgba(0, 0, 0, 0.3));\n",
              "    fill: #FFFFFF;\n",
              "  }\n",
              "</style>\n",
              "\n",
              "  <script>\n",
              "    async function quickchart(key) {\n",
              "      const charts = await google.colab.kernel.invokeFunction(\n",
              "          'suggestCharts', [key], {});\n",
              "    }\n",
              "    (() => {\n",
              "      let quickchartButtonEl =\n",
              "        document.querySelector('#df-1091eeb3-893a-491d-843b-959373300a23 button');\n",
              "      quickchartButtonEl.style.display =\n",
              "        google.colab.kernel.accessAllowed ? 'block' : 'none';\n",
              "    })();\n",
              "  </script>\n",
              "</div>\n",
              "    </div>\n",
              "  </div>\n"
            ]
          },
          "metadata": {},
          "execution_count": 91
        }
      ]
    },
    {
      "cell_type": "code",
      "source": [
        "# Hitung total pendapatan untuk setiap pesanan\n",
        "df_merged[\"total_revenue\"] = df_merged[\"payment_value\"]"
      ],
      "metadata": {
        "id": "K4mO76qis6lw"
      },
      "execution_count": null,
      "outputs": []
    },
    {
      "cell_type": "code",
      "source": [
        "df_merged.head()"
      ],
      "metadata": {
        "colab": {
          "base_uri": "https://localhost:8080/",
          "height": 226
        },
        "id": "zpwlMc4Xvvn4",
        "outputId": "793a2dfc-d415-4980-f425-0a016243ddd8"
      },
      "execution_count": null,
      "outputs": [
        {
          "output_type": "execute_result",
          "data": {
            "text/plain": [
              "   index_x                          order_id  order_item_id  \\\n",
              "0        0  00010242fe8c5a6d1ba2dd792cb16214              1   \n",
              "1        1  00018f77f2f0320c557190d7a144bdd3              1   \n",
              "2        2  000229ec398224ef6ca0657da4fc703e              1   \n",
              "3        3  00024acbcdf0a6daa1e931b038114c75              1   \n",
              "4        4  00042b26cf59d7ce69dfabb4e55b4fd9              1   \n",
              "\n",
              "                         product_id                         seller_id  \\\n",
              "0  4244733e06e7ecb4970a6e2683c13e61  48436dade18ac8b2bce089ec2a041202   \n",
              "1  e5f2d52b802189ee658865ca93d83a8f  dd7ddc04e1b6c2c614352b383efe2d36   \n",
              "2  c777355d18b72b67abbeef9df44fd0fd  5b51032eddd242adc84c38acab88f23d   \n",
              "3  7634da152a4610f1595efa32f14722fc  9d7a1d34a5052409006425275ba1c2b4   \n",
              "4  ac6c3623068f30de03045865e4e10089  df560393f3a51e74553ab94004ba5c87   \n",
              "\n",
              "   shipping_limit_date   price  freight_value  index_y  payment_sequential  \\\n",
              "0  2017-09-19 09:45:35   58.90          13.29    85283                   1   \n",
              "1  2017-05-03 11:05:13  239.90          19.93     2499                   1   \n",
              "2  2018-01-18 14:48:30  199.00          17.87    12393                   1   \n",
              "3  2018-08-15 10:10:18   12.99          12.79    32971                   1   \n",
              "4  2017-02-13 13:57:51  199.90          18.14    98711                   1   \n",
              "\n",
              "  payment_type  payment_installments  payment_value  total_revenue  \n",
              "0  credit_card                     2          72.19          72.19  \n",
              "1  credit_card                     3         259.83         259.83  \n",
              "2  credit_card                     5         216.87         216.87  \n",
              "3  credit_card                     2          25.78          25.78  \n",
              "4  credit_card                     3         218.04         218.04  "
            ],
            "text/html": [
              "\n",
              "  <div id=\"df-141c68cc-aafc-4a67-bc5d-5412698ddb3a\" class=\"colab-df-container\">\n",
              "    <div>\n",
              "<style scoped>\n",
              "    .dataframe tbody tr th:only-of-type {\n",
              "        vertical-align: middle;\n",
              "    }\n",
              "\n",
              "    .dataframe tbody tr th {\n",
              "        vertical-align: top;\n",
              "    }\n",
              "\n",
              "    .dataframe thead th {\n",
              "        text-align: right;\n",
              "    }\n",
              "</style>\n",
              "<table border=\"1\" class=\"dataframe\">\n",
              "  <thead>\n",
              "    <tr style=\"text-align: right;\">\n",
              "      <th></th>\n",
              "      <th>index_x</th>\n",
              "      <th>order_id</th>\n",
              "      <th>order_item_id</th>\n",
              "      <th>product_id</th>\n",
              "      <th>seller_id</th>\n",
              "      <th>shipping_limit_date</th>\n",
              "      <th>price</th>\n",
              "      <th>freight_value</th>\n",
              "      <th>index_y</th>\n",
              "      <th>payment_sequential</th>\n",
              "      <th>payment_type</th>\n",
              "      <th>payment_installments</th>\n",
              "      <th>payment_value</th>\n",
              "      <th>total_revenue</th>\n",
              "    </tr>\n",
              "  </thead>\n",
              "  <tbody>\n",
              "    <tr>\n",
              "      <th>0</th>\n",
              "      <td>0</td>\n",
              "      <td>00010242fe8c5a6d1ba2dd792cb16214</td>\n",
              "      <td>1</td>\n",
              "      <td>4244733e06e7ecb4970a6e2683c13e61</td>\n",
              "      <td>48436dade18ac8b2bce089ec2a041202</td>\n",
              "      <td>2017-09-19 09:45:35</td>\n",
              "      <td>58.90</td>\n",
              "      <td>13.29</td>\n",
              "      <td>85283</td>\n",
              "      <td>1</td>\n",
              "      <td>credit_card</td>\n",
              "      <td>2</td>\n",
              "      <td>72.19</td>\n",
              "      <td>72.19</td>\n",
              "    </tr>\n",
              "    <tr>\n",
              "      <th>1</th>\n",
              "      <td>1</td>\n",
              "      <td>00018f77f2f0320c557190d7a144bdd3</td>\n",
              "      <td>1</td>\n",
              "      <td>e5f2d52b802189ee658865ca93d83a8f</td>\n",
              "      <td>dd7ddc04e1b6c2c614352b383efe2d36</td>\n",
              "      <td>2017-05-03 11:05:13</td>\n",
              "      <td>239.90</td>\n",
              "      <td>19.93</td>\n",
              "      <td>2499</td>\n",
              "      <td>1</td>\n",
              "      <td>credit_card</td>\n",
              "      <td>3</td>\n",
              "      <td>259.83</td>\n",
              "      <td>259.83</td>\n",
              "    </tr>\n",
              "    <tr>\n",
              "      <th>2</th>\n",
              "      <td>2</td>\n",
              "      <td>000229ec398224ef6ca0657da4fc703e</td>\n",
              "      <td>1</td>\n",
              "      <td>c777355d18b72b67abbeef9df44fd0fd</td>\n",
              "      <td>5b51032eddd242adc84c38acab88f23d</td>\n",
              "      <td>2018-01-18 14:48:30</td>\n",
              "      <td>199.00</td>\n",
              "      <td>17.87</td>\n",
              "      <td>12393</td>\n",
              "      <td>1</td>\n",
              "      <td>credit_card</td>\n",
              "      <td>5</td>\n",
              "      <td>216.87</td>\n",
              "      <td>216.87</td>\n",
              "    </tr>\n",
              "    <tr>\n",
              "      <th>3</th>\n",
              "      <td>3</td>\n",
              "      <td>00024acbcdf0a6daa1e931b038114c75</td>\n",
              "      <td>1</td>\n",
              "      <td>7634da152a4610f1595efa32f14722fc</td>\n",
              "      <td>9d7a1d34a5052409006425275ba1c2b4</td>\n",
              "      <td>2018-08-15 10:10:18</td>\n",
              "      <td>12.99</td>\n",
              "      <td>12.79</td>\n",
              "      <td>32971</td>\n",
              "      <td>1</td>\n",
              "      <td>credit_card</td>\n",
              "      <td>2</td>\n",
              "      <td>25.78</td>\n",
              "      <td>25.78</td>\n",
              "    </tr>\n",
              "    <tr>\n",
              "      <th>4</th>\n",
              "      <td>4</td>\n",
              "      <td>00042b26cf59d7ce69dfabb4e55b4fd9</td>\n",
              "      <td>1</td>\n",
              "      <td>ac6c3623068f30de03045865e4e10089</td>\n",
              "      <td>df560393f3a51e74553ab94004ba5c87</td>\n",
              "      <td>2017-02-13 13:57:51</td>\n",
              "      <td>199.90</td>\n",
              "      <td>18.14</td>\n",
              "      <td>98711</td>\n",
              "      <td>1</td>\n",
              "      <td>credit_card</td>\n",
              "      <td>3</td>\n",
              "      <td>218.04</td>\n",
              "      <td>218.04</td>\n",
              "    </tr>\n",
              "  </tbody>\n",
              "</table>\n",
              "</div>\n",
              "    <div class=\"colab-df-buttons\">\n",
              "\n",
              "  <div class=\"colab-df-container\">\n",
              "    <button class=\"colab-df-convert\" onclick=\"convertToInteractive('df-141c68cc-aafc-4a67-bc5d-5412698ddb3a')\"\n",
              "            title=\"Convert this dataframe to an interactive table.\"\n",
              "            style=\"display:none;\">\n",
              "\n",
              "  <svg xmlns=\"http://www.w3.org/2000/svg\" height=\"24px\" viewBox=\"0 -960 960 960\">\n",
              "    <path d=\"M120-120v-720h720v720H120Zm60-500h600v-160H180v160Zm220 220h160v-160H400v160Zm0 220h160v-160H400v160ZM180-400h160v-160H180v160Zm440 0h160v-160H620v160ZM180-180h160v-160H180v160Zm440 0h160v-160H620v160Z\"/>\n",
              "  </svg>\n",
              "    </button>\n",
              "\n",
              "  <style>\n",
              "    .colab-df-container {\n",
              "      display:flex;\n",
              "      gap: 12px;\n",
              "    }\n",
              "\n",
              "    .colab-df-convert {\n",
              "      background-color: #E8F0FE;\n",
              "      border: none;\n",
              "      border-radius: 50%;\n",
              "      cursor: pointer;\n",
              "      display: none;\n",
              "      fill: #1967D2;\n",
              "      height: 32px;\n",
              "      padding: 0 0 0 0;\n",
              "      width: 32px;\n",
              "    }\n",
              "\n",
              "    .colab-df-convert:hover {\n",
              "      background-color: #E2EBFA;\n",
              "      box-shadow: 0px 1px 2px rgba(60, 64, 67, 0.3), 0px 1px 3px 1px rgba(60, 64, 67, 0.15);\n",
              "      fill: #174EA6;\n",
              "    }\n",
              "\n",
              "    .colab-df-buttons div {\n",
              "      margin-bottom: 4px;\n",
              "    }\n",
              "\n",
              "    [theme=dark] .colab-df-convert {\n",
              "      background-color: #3B4455;\n",
              "      fill: #D2E3FC;\n",
              "    }\n",
              "\n",
              "    [theme=dark] .colab-df-convert:hover {\n",
              "      background-color: #434B5C;\n",
              "      box-shadow: 0px 1px 3px 1px rgba(0, 0, 0, 0.15);\n",
              "      filter: drop-shadow(0px 1px 2px rgba(0, 0, 0, 0.3));\n",
              "      fill: #FFFFFF;\n",
              "    }\n",
              "  </style>\n",
              "\n",
              "    <script>\n",
              "      const buttonEl =\n",
              "        document.querySelector('#df-141c68cc-aafc-4a67-bc5d-5412698ddb3a button.colab-df-convert');\n",
              "      buttonEl.style.display =\n",
              "        google.colab.kernel.accessAllowed ? 'block' : 'none';\n",
              "\n",
              "      async function convertToInteractive(key) {\n",
              "        const element = document.querySelector('#df-141c68cc-aafc-4a67-bc5d-5412698ddb3a');\n",
              "        const dataTable =\n",
              "          await google.colab.kernel.invokeFunction('convertToInteractive',\n",
              "                                                    [key], {});\n",
              "        if (!dataTable) return;\n",
              "\n",
              "        const docLinkHtml = 'Like what you see? Visit the ' +\n",
              "          '<a target=\"_blank\" href=https://colab.research.google.com/notebooks/data_table.ipynb>data table notebook</a>'\n",
              "          + ' to learn more about interactive tables.';\n",
              "        element.innerHTML = '';\n",
              "        dataTable['output_type'] = 'display_data';\n",
              "        await google.colab.output.renderOutput(dataTable, element);\n",
              "        const docLink = document.createElement('div');\n",
              "        docLink.innerHTML = docLinkHtml;\n",
              "        element.appendChild(docLink);\n",
              "      }\n",
              "    </script>\n",
              "  </div>\n",
              "\n",
              "\n",
              "<div id=\"df-caea76a1-74f3-419c-bea1-32861f07719b\">\n",
              "  <button class=\"colab-df-quickchart\" onclick=\"quickchart('df-caea76a1-74f3-419c-bea1-32861f07719b')\"\n",
              "            title=\"Suggest charts.\"\n",
              "            style=\"display:none;\">\n",
              "\n",
              "<svg xmlns=\"http://www.w3.org/2000/svg\" height=\"24px\"viewBox=\"0 0 24 24\"\n",
              "     width=\"24px\">\n",
              "    <g>\n",
              "        <path d=\"M19 3H5c-1.1 0-2 .9-2 2v14c0 1.1.9 2 2 2h14c1.1 0 2-.9 2-2V5c0-1.1-.9-2-2-2zM9 17H7v-7h2v7zm4 0h-2V7h2v10zm4 0h-2v-4h2v4z\"/>\n",
              "    </g>\n",
              "</svg>\n",
              "  </button>\n",
              "\n",
              "<style>\n",
              "  .colab-df-quickchart {\n",
              "    background-color: #E8F0FE;\n",
              "    border: none;\n",
              "    border-radius: 50%;\n",
              "    cursor: pointer;\n",
              "    display: none;\n",
              "    fill: #1967D2;\n",
              "    height: 32px;\n",
              "    padding: 0 0 0 0;\n",
              "    width: 32px;\n",
              "  }\n",
              "\n",
              "  .colab-df-quickchart:hover {\n",
              "    background-color: #E2EBFA;\n",
              "    box-shadow: 0px 1px 2px rgba(60, 64, 67, 0.3), 0px 1px 3px 1px rgba(60, 64, 67, 0.15);\n",
              "    fill: #174EA6;\n",
              "  }\n",
              "\n",
              "  [theme=dark] .colab-df-quickchart {\n",
              "    background-color: #3B4455;\n",
              "    fill: #D2E3FC;\n",
              "  }\n",
              "\n",
              "  [theme=dark] .colab-df-quickchart:hover {\n",
              "    background-color: #434B5C;\n",
              "    box-shadow: 0px 1px 3px 1px rgba(0, 0, 0, 0.15);\n",
              "    filter: drop-shadow(0px 1px 2px rgba(0, 0, 0, 0.3));\n",
              "    fill: #FFFFFF;\n",
              "  }\n",
              "</style>\n",
              "\n",
              "  <script>\n",
              "    async function quickchart(key) {\n",
              "      const charts = await google.colab.kernel.invokeFunction(\n",
              "          'suggestCharts', [key], {});\n",
              "    }\n",
              "    (() => {\n",
              "      let quickchartButtonEl =\n",
              "        document.querySelector('#df-caea76a1-74f3-419c-bea1-32861f07719b button');\n",
              "      quickchartButtonEl.style.display =\n",
              "        google.colab.kernel.accessAllowed ? 'block' : 'none';\n",
              "    })();\n",
              "  </script>\n",
              "</div>\n",
              "    </div>\n",
              "  </div>\n"
            ]
          },
          "metadata": {},
          "execution_count": 93
        }
      ]
    },
    {
      "cell_type": "code",
      "source": [
        "# Hitung total penjualan keseluruhan\n",
        "total_sales = df_merged[\"total_revenue\"].sum().round(3)\n",
        "\n",
        "print(\"Total Penjualan Keseluruhan:\", total_sales)"
      ],
      "metadata": {
        "colab": {
          "base_uri": "https://localhost:8080/"
        },
        "id": "n26skqY6s_N5",
        "outputId": "79a56828-95ec-4387-aaaf-85d9b015a5e8"
      },
      "execution_count": null,
      "outputs": [
        {
          "output_type": "stream",
          "name": "stdout",
          "text": [
            "Total Penjualan Keseluruhan: 20308134.71\n"
          ]
        }
      ]
    },
    {
      "cell_type": "markdown",
      "source": [
        "Total penjualan keseluruhan sebesar **20.308.134,71**. Setelah mengetahui total penjualan keseluruhan, selanjutnya kita melakukan evaluasi  total pendapatan penjualan dari seluruh produk dan kategori. Untuk melakukan hal tersebut dapat dilakukan dengan mengacu pada table **order_items**, **order_payments** dan table **products**. Karena sebelumnya kita sudah memeriksa kondisi data pada tabel **order_items** maka pada tahapan ini kita juga perlu memeriksa kondisi data pada tabel **products**."
      ],
      "metadata": {
        "id": "S-YXWcI0tbwV"
      }
    },
    {
      "cell_type": "code",
      "source": [
        "#data understanding pada table products\n",
        "\n",
        "table_products = 'olist_products_dataset'\n",
        "# Query to retrieve data from the specified table\n",
        "query = f\"SELECT * FROM {table_products}\"\n",
        "\n",
        "# Read data into a DataFrame\n",
        "df_products = pd.read_sql(query, conn)\n",
        "df_products.head()"
      ],
      "metadata": {
        "colab": {
          "base_uri": "https://localhost:8080/",
          "height": 226
        },
        "id": "3SfewM6Iu31m",
        "outputId": "cdbdbdd1-d622-4ff4-9d76-86dc2b4c9c8c"
      },
      "execution_count": null,
      "outputs": [
        {
          "output_type": "execute_result",
          "data": {
            "text/plain": [
              "   index                        product_id  product_category_name  \\\n",
              "0      0  1e9e8ef04dbcff4541ed26657ea517e5             perfumaria   \n",
              "1      1  3aa071139cb16b67ca9e5dea641aaa2f                  artes   \n",
              "2      2  96bd76ec8810374ed1b65e291975717f          esporte_lazer   \n",
              "3      3  cef67bcfe19066a932b7673e239eb23d                  bebes   \n",
              "4      4  9dc1a7de274444849c219cff195d0b71  utilidades_domesticas   \n",
              "\n",
              "   product_name_lenght  product_description_lenght  product_photos_qty  \\\n",
              "0                 40.0                       287.0                 1.0   \n",
              "1                 44.0                       276.0                 1.0   \n",
              "2                 46.0                       250.0                 1.0   \n",
              "3                 27.0                       261.0                 1.0   \n",
              "4                 37.0                       402.0                 4.0   \n",
              "\n",
              "   product_weight_g  product_length_cm  product_height_cm  product_width_cm  \n",
              "0             225.0               16.0               10.0              14.0  \n",
              "1            1000.0               30.0               18.0              20.0  \n",
              "2             154.0               18.0                9.0              15.0  \n",
              "3             371.0               26.0                4.0              26.0  \n",
              "4             625.0               20.0               17.0              13.0  "
            ],
            "text/html": [
              "\n",
              "  <div id=\"df-7687c310-5677-4485-8f42-2f374e22bf6e\" class=\"colab-df-container\">\n",
              "    <div>\n",
              "<style scoped>\n",
              "    .dataframe tbody tr th:only-of-type {\n",
              "        vertical-align: middle;\n",
              "    }\n",
              "\n",
              "    .dataframe tbody tr th {\n",
              "        vertical-align: top;\n",
              "    }\n",
              "\n",
              "    .dataframe thead th {\n",
              "        text-align: right;\n",
              "    }\n",
              "</style>\n",
              "<table border=\"1\" class=\"dataframe\">\n",
              "  <thead>\n",
              "    <tr style=\"text-align: right;\">\n",
              "      <th></th>\n",
              "      <th>index</th>\n",
              "      <th>product_id</th>\n",
              "      <th>product_category_name</th>\n",
              "      <th>product_name_lenght</th>\n",
              "      <th>product_description_lenght</th>\n",
              "      <th>product_photos_qty</th>\n",
              "      <th>product_weight_g</th>\n",
              "      <th>product_length_cm</th>\n",
              "      <th>product_height_cm</th>\n",
              "      <th>product_width_cm</th>\n",
              "    </tr>\n",
              "  </thead>\n",
              "  <tbody>\n",
              "    <tr>\n",
              "      <th>0</th>\n",
              "      <td>0</td>\n",
              "      <td>1e9e8ef04dbcff4541ed26657ea517e5</td>\n",
              "      <td>perfumaria</td>\n",
              "      <td>40.0</td>\n",
              "      <td>287.0</td>\n",
              "      <td>1.0</td>\n",
              "      <td>225.0</td>\n",
              "      <td>16.0</td>\n",
              "      <td>10.0</td>\n",
              "      <td>14.0</td>\n",
              "    </tr>\n",
              "    <tr>\n",
              "      <th>1</th>\n",
              "      <td>1</td>\n",
              "      <td>3aa071139cb16b67ca9e5dea641aaa2f</td>\n",
              "      <td>artes</td>\n",
              "      <td>44.0</td>\n",
              "      <td>276.0</td>\n",
              "      <td>1.0</td>\n",
              "      <td>1000.0</td>\n",
              "      <td>30.0</td>\n",
              "      <td>18.0</td>\n",
              "      <td>20.0</td>\n",
              "    </tr>\n",
              "    <tr>\n",
              "      <th>2</th>\n",
              "      <td>2</td>\n",
              "      <td>96bd76ec8810374ed1b65e291975717f</td>\n",
              "      <td>esporte_lazer</td>\n",
              "      <td>46.0</td>\n",
              "      <td>250.0</td>\n",
              "      <td>1.0</td>\n",
              "      <td>154.0</td>\n",
              "      <td>18.0</td>\n",
              "      <td>9.0</td>\n",
              "      <td>15.0</td>\n",
              "    </tr>\n",
              "    <tr>\n",
              "      <th>3</th>\n",
              "      <td>3</td>\n",
              "      <td>cef67bcfe19066a932b7673e239eb23d</td>\n",
              "      <td>bebes</td>\n",
              "      <td>27.0</td>\n",
              "      <td>261.0</td>\n",
              "      <td>1.0</td>\n",
              "      <td>371.0</td>\n",
              "      <td>26.0</td>\n",
              "      <td>4.0</td>\n",
              "      <td>26.0</td>\n",
              "    </tr>\n",
              "    <tr>\n",
              "      <th>4</th>\n",
              "      <td>4</td>\n",
              "      <td>9dc1a7de274444849c219cff195d0b71</td>\n",
              "      <td>utilidades_domesticas</td>\n",
              "      <td>37.0</td>\n",
              "      <td>402.0</td>\n",
              "      <td>4.0</td>\n",
              "      <td>625.0</td>\n",
              "      <td>20.0</td>\n",
              "      <td>17.0</td>\n",
              "      <td>13.0</td>\n",
              "    </tr>\n",
              "  </tbody>\n",
              "</table>\n",
              "</div>\n",
              "    <div class=\"colab-df-buttons\">\n",
              "\n",
              "  <div class=\"colab-df-container\">\n",
              "    <button class=\"colab-df-convert\" onclick=\"convertToInteractive('df-7687c310-5677-4485-8f42-2f374e22bf6e')\"\n",
              "            title=\"Convert this dataframe to an interactive table.\"\n",
              "            style=\"display:none;\">\n",
              "\n",
              "  <svg xmlns=\"http://www.w3.org/2000/svg\" height=\"24px\" viewBox=\"0 -960 960 960\">\n",
              "    <path d=\"M120-120v-720h720v720H120Zm60-500h600v-160H180v160Zm220 220h160v-160H400v160Zm0 220h160v-160H400v160ZM180-400h160v-160H180v160Zm440 0h160v-160H620v160ZM180-180h160v-160H180v160Zm440 0h160v-160H620v160Z\"/>\n",
              "  </svg>\n",
              "    </button>\n",
              "\n",
              "  <style>\n",
              "    .colab-df-container {\n",
              "      display:flex;\n",
              "      gap: 12px;\n",
              "    }\n",
              "\n",
              "    .colab-df-convert {\n",
              "      background-color: #E8F0FE;\n",
              "      border: none;\n",
              "      border-radius: 50%;\n",
              "      cursor: pointer;\n",
              "      display: none;\n",
              "      fill: #1967D2;\n",
              "      height: 32px;\n",
              "      padding: 0 0 0 0;\n",
              "      width: 32px;\n",
              "    }\n",
              "\n",
              "    .colab-df-convert:hover {\n",
              "      background-color: #E2EBFA;\n",
              "      box-shadow: 0px 1px 2px rgba(60, 64, 67, 0.3), 0px 1px 3px 1px rgba(60, 64, 67, 0.15);\n",
              "      fill: #174EA6;\n",
              "    }\n",
              "\n",
              "    .colab-df-buttons div {\n",
              "      margin-bottom: 4px;\n",
              "    }\n",
              "\n",
              "    [theme=dark] .colab-df-convert {\n",
              "      background-color: #3B4455;\n",
              "      fill: #D2E3FC;\n",
              "    }\n",
              "\n",
              "    [theme=dark] .colab-df-convert:hover {\n",
              "      background-color: #434B5C;\n",
              "      box-shadow: 0px 1px 3px 1px rgba(0, 0, 0, 0.15);\n",
              "      filter: drop-shadow(0px 1px 2px rgba(0, 0, 0, 0.3));\n",
              "      fill: #FFFFFF;\n",
              "    }\n",
              "  </style>\n",
              "\n",
              "    <script>\n",
              "      const buttonEl =\n",
              "        document.querySelector('#df-7687c310-5677-4485-8f42-2f374e22bf6e button.colab-df-convert');\n",
              "      buttonEl.style.display =\n",
              "        google.colab.kernel.accessAllowed ? 'block' : 'none';\n",
              "\n",
              "      async function convertToInteractive(key) {\n",
              "        const element = document.querySelector('#df-7687c310-5677-4485-8f42-2f374e22bf6e');\n",
              "        const dataTable =\n",
              "          await google.colab.kernel.invokeFunction('convertToInteractive',\n",
              "                                                    [key], {});\n",
              "        if (!dataTable) return;\n",
              "\n",
              "        const docLinkHtml = 'Like what you see? Visit the ' +\n",
              "          '<a target=\"_blank\" href=https://colab.research.google.com/notebooks/data_table.ipynb>data table notebook</a>'\n",
              "          + ' to learn more about interactive tables.';\n",
              "        element.innerHTML = '';\n",
              "        dataTable['output_type'] = 'display_data';\n",
              "        await google.colab.output.renderOutput(dataTable, element);\n",
              "        const docLink = document.createElement('div');\n",
              "        docLink.innerHTML = docLinkHtml;\n",
              "        element.appendChild(docLink);\n",
              "      }\n",
              "    </script>\n",
              "  </div>\n",
              "\n",
              "\n",
              "<div id=\"df-5927b883-47f2-4bae-a117-37711e173503\">\n",
              "  <button class=\"colab-df-quickchart\" onclick=\"quickchart('df-5927b883-47f2-4bae-a117-37711e173503')\"\n",
              "            title=\"Suggest charts.\"\n",
              "            style=\"display:none;\">\n",
              "\n",
              "<svg xmlns=\"http://www.w3.org/2000/svg\" height=\"24px\"viewBox=\"0 0 24 24\"\n",
              "     width=\"24px\">\n",
              "    <g>\n",
              "        <path d=\"M19 3H5c-1.1 0-2 .9-2 2v14c0 1.1.9 2 2 2h14c1.1 0 2-.9 2-2V5c0-1.1-.9-2-2-2zM9 17H7v-7h2v7zm4 0h-2V7h2v10zm4 0h-2v-4h2v4z\"/>\n",
              "    </g>\n",
              "</svg>\n",
              "  </button>\n",
              "\n",
              "<style>\n",
              "  .colab-df-quickchart {\n",
              "    background-color: #E8F0FE;\n",
              "    border: none;\n",
              "    border-radius: 50%;\n",
              "    cursor: pointer;\n",
              "    display: none;\n",
              "    fill: #1967D2;\n",
              "    height: 32px;\n",
              "    padding: 0 0 0 0;\n",
              "    width: 32px;\n",
              "  }\n",
              "\n",
              "  .colab-df-quickchart:hover {\n",
              "    background-color: #E2EBFA;\n",
              "    box-shadow: 0px 1px 2px rgba(60, 64, 67, 0.3), 0px 1px 3px 1px rgba(60, 64, 67, 0.15);\n",
              "    fill: #174EA6;\n",
              "  }\n",
              "\n",
              "  [theme=dark] .colab-df-quickchart {\n",
              "    background-color: #3B4455;\n",
              "    fill: #D2E3FC;\n",
              "  }\n",
              "\n",
              "  [theme=dark] .colab-df-quickchart:hover {\n",
              "    background-color: #434B5C;\n",
              "    box-shadow: 0px 1px 3px 1px rgba(0, 0, 0, 0.15);\n",
              "    filter: drop-shadow(0px 1px 2px rgba(0, 0, 0, 0.3));\n",
              "    fill: #FFFFFF;\n",
              "  }\n",
              "</style>\n",
              "\n",
              "  <script>\n",
              "    async function quickchart(key) {\n",
              "      const charts = await google.colab.kernel.invokeFunction(\n",
              "          'suggestCharts', [key], {});\n",
              "    }\n",
              "    (() => {\n",
              "      let quickchartButtonEl =\n",
              "        document.querySelector('#df-5927b883-47f2-4bae-a117-37711e173503 button');\n",
              "      quickchartButtonEl.style.display =\n",
              "        google.colab.kernel.accessAllowed ? 'block' : 'none';\n",
              "    })();\n",
              "  </script>\n",
              "</div>\n",
              "    </div>\n",
              "  </div>\n"
            ]
          },
          "metadata": {},
          "execution_count": 95
        }
      ]
    },
    {
      "cell_type": "code",
      "source": [
        "#identifikasi apakah table products memiliki missing values\n",
        "df_products_nan_counts = df_products.isna().sum()\n",
        "print(df_products_nan_counts)"
      ],
      "metadata": {
        "colab": {
          "base_uri": "https://localhost:8080/"
        },
        "id": "6GT2cD6GtUSt",
        "outputId": "83af4de3-bf1f-4253-a169-2fe7094ceebd"
      },
      "execution_count": null,
      "outputs": [
        {
          "output_type": "stream",
          "name": "stdout",
          "text": [
            "index                           0\n",
            "product_id                      0\n",
            "product_category_name         610\n",
            "product_name_lenght           610\n",
            "product_description_lenght    610\n",
            "product_photos_qty            610\n",
            "product_weight_g                2\n",
            "product_length_cm               2\n",
            "product_height_cm               2\n",
            "product_width_cm                2\n",
            "dtype: int64\n"
          ]
        }
      ]
    },
    {
      "cell_type": "markdown",
      "source": [
        "Pada table product, terdapat banyak kolom yang memiliki missing values. Untuk itu perlu dilakukan data cleaning terhadap baris yang memiliki missing values. Untuk mengatasi baris yang memiliki missing values, pada tugas ini dilakukan pendekatan mengganti nilai kosong dengan nilai unknown atau nilai lain. Hal ini dilakukan berdasarkan pertimbangan agar Tetap mempertahankan jumlah baris yang sama, sehingga data tidak menjadi lebih sedikit, menjaga integritas dataset dan membantu mengidentifikasi data yang tidak lengkap. Untuk kolom **‘product_category_name’** akan diganti dengan nilai **“unknown”**. Sedangkan untuk kolom **‘product_name_lenght’**, **‘product_description_lenght’**, **‘product_photos_qty’** , **‘product_weight_g’**, **‘product_length_cm’**, **‘product_height_cm’**, **‘product_width_cm’** akan diisi dengan nilai rata – rata atau median dari kolom tersebut. Hal ini dilakukan untuk menjaga distribusi data dan menghindari bias."
      ],
      "metadata": {
        "id": "IymVGV3IwBO5"
      }
    },
    {
      "cell_type": "code",
      "source": [
        "# Mengganti nilai kosong pada kolom product_category_name dengan \"Unknown\"\n",
        "df_products[\"product_category_name\"].fillna(\"Unknown\", inplace=True)\n",
        "\n",
        "# Mengisi nilai kosong pada kolom numerik dengan median\n",
        "numeric_columns = [\"product_name_lenght\", \"product_description_lenght\", \"product_photos_qty\",\n",
        "                   \"product_weight_g\", \"product_length_cm\", \"product_height_cm\", \"product_width_cm\"]\n",
        "for column in numeric_columns:\n",
        "    median_value = df_products[column].median()\n",
        "    df_products[column].fillna(median_value, inplace=True)"
      ],
      "metadata": {
        "id": "aIT8GsuuwU0L"
      },
      "execution_count": null,
      "outputs": []
    },
    {
      "cell_type": "code",
      "source": [
        "#setelah dilakukan data cleaning, maka tidak ada lagi kolom yang memiliki missing values\n",
        "df_products_nan_counts = df_products.isna().sum()\n",
        "print(df_products_nan_counts)"
      ],
      "metadata": {
        "colab": {
          "base_uri": "https://localhost:8080/"
        },
        "id": "RkL4jv6RwlCy",
        "outputId": "7c6914aa-0cf1-446c-c204-66a14aabe9a9"
      },
      "execution_count": null,
      "outputs": [
        {
          "output_type": "stream",
          "name": "stdout",
          "text": [
            "index                         0\n",
            "product_id                    0\n",
            "product_category_name         0\n",
            "product_name_lenght           0\n",
            "product_description_lenght    0\n",
            "product_photos_qty            0\n",
            "product_weight_g              0\n",
            "product_length_cm             0\n",
            "product_height_cm             0\n",
            "product_width_cm              0\n",
            "dtype: int64\n"
          ]
        }
      ]
    },
    {
      "cell_type": "code",
      "source": [
        "# Gabungkan tabel df_order_items_cleaned, df_products_cleaned, dan df_order_payments\n",
        "df_merged = pd.merge(df_order_items, df_products, on=\"product_id\")\n",
        "df_merged = pd.merge(df_merged, df_order_payments, on=\"order_id\")"
      ],
      "metadata": {
        "id": "I5EK5RcUwx14"
      },
      "execution_count": null,
      "outputs": []
    },
    {
      "cell_type": "code",
      "source": [
        "# Kelompokkan data berdasarkan kategori produk dan product_id\n",
        "category_product_revenue = df_merged.groupby([\"product_category_name\", \"product_id\"])[\"payment_value\"].sum()\n",
        "\n",
        "# Kelompokkan data berdasarkan kategori produk saja\n",
        "category_revenue = df_merged.groupby(\"product_category_name\")[\"payment_value\"].sum()\n",
        "\n",
        "# Urutkan hasil berdasarkan total pendapatan terbesar\n",
        "category_revenue = category_revenue.sort_values(ascending=False)\n",
        "\n",
        "print(\"Total Pendapatan Penjualan per Kategori:\")\n",
        "print(category_revenue)"
      ],
      "metadata": {
        "colab": {
          "base_uri": "https://localhost:8080/"
        },
        "id": "Jc7MkEtQxdAw",
        "outputId": "8df561f2-3a3f-4218-b5ed-6669697e3678"
      },
      "execution_count": null,
      "outputs": [
        {
          "output_type": "stream",
          "name": "stdout",
          "text": [
            "Total Pendapatan Penjualan per Kategori:\n",
            "product_category_name\n",
            "cama_mesa_banho                  1712553.67\n",
            "beleza_saude                     1657373.12\n",
            "informatica_acessorios           1585330.45\n",
            "moveis_decoracao                 1430176.39\n",
            "relogios_presentes               1429216.68\n",
            "                                    ...    \n",
            "pc_gamer                            2174.43\n",
            "casa_conforto_2                     1710.54\n",
            "cds_dvds_musicais                   1199.43\n",
            "fashion_roupa_infanto_juvenil        785.67\n",
            "seguros_e_servicos                   324.51\n",
            "Name: payment_value, Length: 74, dtype: float64\n"
          ]
        }
      ]
    },
    {
      "cell_type": "code",
      "source": [
        "category_revenue.head()"
      ],
      "metadata": {
        "colab": {
          "base_uri": "https://localhost:8080/"
        },
        "id": "f2Ak6EDT9sbP",
        "outputId": "71b94c56-f28c-4534-85c9-a7a6f7f26dee"
      },
      "execution_count": null,
      "outputs": [
        {
          "output_type": "execute_result",
          "data": {
            "text/plain": [
              "product_category_name\n",
              "cama_mesa_banho           1712553.67\n",
              "beleza_saude              1657373.12\n",
              "informatica_acessorios    1585330.45\n",
              "moveis_decoracao          1430176.39\n",
              "relogios_presentes        1429216.68\n",
              "Name: payment_value, dtype: float64"
            ]
          },
          "metadata": {},
          "execution_count": 101
        }
      ]
    },
    {
      "cell_type": "code",
      "source": [
        "# Menampilkan grafik penjualan per kategori dengan Seaborn\n",
        "plt.figure(figsize=(12, 6))\n",
        "sns.barplot(data=category_revenue.reset_index(), x=\"product_category_name\", y=\"payment_value\")\n",
        "plt.title(\"Total Pendapatan Penjualan per Kategori\")\n",
        "plt.xlabel(\"Kategori Produk\")\n",
        "plt.ylabel(\"Total Pendapatan\")\n",
        "plt.xticks(rotation=45, ha=\"right\")\n",
        "plt.tight_layout()\n",
        "plt.show()"
      ],
      "metadata": {
        "colab": {
          "base_uri": "https://localhost:8080/",
          "height": 607
        },
        "id": "civfrYXzx-9k",
        "outputId": "9cb30893-bdbf-4999-c0b9-413c67e198d3"
      },
      "execution_count": null,
      "outputs": [
        {
          "output_type": "display_data",
          "data": {
            "text/plain": [
              "<Figure size 1200x600 with 1 Axes>"
            ],
            "image/png": "[encoded data removed]"
          },
          "metadata": {}
        }
      ]
    },
    {
      "cell_type": "markdown",
      "source": [
        "Berdasarkan total pendapatan penjualan per kategori, 5 kategori product yang memberikan pendapatan penjualan tertinggi adalah\n",
        "\n",
        "1. cama_mesa_banho 1712553.67\n",
        "2. beleza_saude 1657373.12\n",
        "3. informatica_acessorios 1585330.45\n",
        "4. moveis_decoracao 1430176.39\n",
        "5. relogios_presentes 1429216.68\n",
        "\n",
        "Dan 5 kategori produk dengan pendapatan penjualan terendah adalah\n",
        "1. pc_gamer 2174.43\n",
        "2. casa_conforto_2 1710.54\n",
        "3. cds_dvds_musicais 1199.43\n",
        "4. fashion_roupa_infanto_juvenil 785.67\n",
        "5. eguros_e_servicos 324.51\n"
      ],
      "metadata": {
        "id": "B59j473myW4y"
      }
    },
    {
      "cell_type": "markdown",
      "source": [
        "Selanjutnya kita identifikasi trend kenaikan atau penurunan pendapatan dari waktu ke waktu. Untuk menganalisa trend akan digunakan data dari table **order_items**, **products**, **order_payments** dan **orders**. Dari tabel yang akan digunakan, hanya table **orders** yang belum dipastikan kondisi data nya. Untuk itu dilakukan pengecekan terhadap kondisi data pada tabel order."
      ],
      "metadata": {
        "id": "HXs9ojRYza36"
      }
    },
    {
      "cell_type": "code",
      "source": [
        "#Data understanding pada table orders\n",
        "table_order= 'olist_order_dataset'\n",
        "\n",
        "# Query to retrieve data from the specified table\n",
        "query = f\"SELECT * FROM {table_order}\"\n",
        "\n",
        "# Read data into a DataFrame\n",
        "df_order = pd.read_sql(query, conn)\n",
        "df_order.head()"
      ],
      "metadata": {
        "colab": {
          "base_uri": "https://localhost:8080/",
          "height": 226
        },
        "id": "3-HZOGTGzOoQ",
        "outputId": "9fec1d64-e7a4-478b-b9ba-f982839b32cf"
      },
      "execution_count": null,
      "outputs": [
        {
          "output_type": "execute_result",
          "data": {
            "text/plain": [
              "   index                          order_id                       customer_id  \\\n",
              "0      0  e481f51cbdc54678b7cc49136f2d6af7  9ef432eb6251297304e76186b10a928d   \n",
              "1      1  53cdb2fc8bc7dce0b6741e2150273451  b0830fb4747a6c6d20dea0b8c802d7ef   \n",
              "2      2  47770eb9100c2d0c44946d9cf07ec65d  41ce2a54c0b03bf3443c3d931a367089   \n",
              "3      3  949d5b44dbf5de918fe9c16f97b45f8a  f88197465ea7920adcdbec7375364d82   \n",
              "4      4  ad21c59c0840e6cb83a9ceb5573f8159  8ab97904e6daea8866dbdbc4fb7aad2c   \n",
              "\n",
              "  order_status order_purchase_timestamp    order_approved_at  \\\n",
              "0    delivered      2017-10-02 10:56:33  2017-10-02 11:07:15   \n",
              "1    delivered      2018-07-24 20:41:37  2018-07-26 03:24:27   \n",
              "2    delivered      2018-08-08 08:38:49  2018-08-08 08:55:23   \n",
              "3    delivered      2017-11-18 19:28:06  2017-11-18 19:45:59   \n",
              "4    delivered      2018-02-13 21:18:39  2018-02-13 22:20:29   \n",
              "\n",
              "  order_delivered_carrier_date order_delivered_customer_date  \\\n",
              "0          2017-10-04 19:55:00           2017-10-10 21:25:13   \n",
              "1          2018-07-26 14:31:00           2018-08-07 15:27:45   \n",
              "2          2018-08-08 13:50:00           2018-08-17 18:06:29   \n",
              "3          2017-11-22 13:39:59           2017-12-02 00:28:42   \n",
              "4          2018-02-14 19:46:34           2018-02-16 18:17:02   \n",
              "\n",
              "  order_estimated_delivery_date  \n",
              "0           2017-10-18 00:00:00  \n",
              "1           2018-08-13 00:00:00  \n",
              "2           2018-09-04 00:00:00  \n",
              "3           2017-12-15 00:00:00  \n",
              "4           2018-02-26 00:00:00  "
            ],
            "text/html": [
              "\n",
              "  <div id=\"df-95d9e745-972a-4288-8408-5dd95db7b974\" class=\"colab-df-container\">\n",
              "    <div>\n",
              "<style scoped>\n",
              "    .dataframe tbody tr th:only-of-type {\n",
              "        vertical-align: middle;\n",
              "    }\n",
              "\n",
              "    .dataframe tbody tr th {\n",
              "        vertical-align: top;\n",
              "    }\n",
              "\n",
              "    .dataframe thead th {\n",
              "        text-align: right;\n",
              "    }\n",
              "</style>\n",
              "<table border=\"1\" class=\"dataframe\">\n",
              "  <thead>\n",
              "    <tr style=\"text-align: right;\">\n",
              "      <th></th>\n",
              "      <th>index</th>\n",
              "      <th>order_id</th>\n",
              "      <th>customer_id</th>\n",
              "      <th>order_status</th>\n",
              "      <th>order_purchase_timestamp</th>\n",
              "      <th>order_approved_at</th>\n",
              "      <th>order_delivered_carrier_date</th>\n",
              "      <th>order_delivered_customer_date</th>\n",
              "      <th>order_estimated_delivery_date</th>\n",
              "    </tr>\n",
              "  </thead>\n",
              "  <tbody>\n",
              "    <tr>\n",
              "      <th>0</th>\n",
              "      <td>0</td>\n",
              "      <td>e481f51cbdc54678b7cc49136f2d6af7</td>\n",
              "      <td>9ef432eb6251297304e76186b10a928d</td>\n",
              "      <td>delivered</td>\n",
              "      <td>2017-10-02 10:56:33</td>\n",
              "      <td>2017-10-02 11:07:15</td>\n",
              "      <td>2017-10-04 19:55:00</td>\n",
              "      <td>2017-10-10 21:25:13</td>\n",
              "      <td>2017-10-18 00:00:00</td>\n",
              "    </tr>\n",
              "    <tr>\n",
              "      <th>1</th>\n",
              "      <td>1</td>\n",
              "      <td>53cdb2fc8bc7dce0b6741e2150273451</td>\n",
              "      <td>b0830fb4747a6c6d20dea0b8c802d7ef</td>\n",
              "      <td>delivered</td>\n",
              "      <td>2018-07-24 20:41:37</td>\n",
              "      <td>2018-07-26 03:24:27</td>\n",
              "      <td>2018-07-26 14:31:00</td>\n",
              "      <td>2018-08-07 15:27:45</td>\n",
              "      <td>2018-08-13 00:00:00</td>\n",
              "    </tr>\n",
              "    <tr>\n",
              "      <th>2</th>\n",
              "      <td>2</td>\n",
              "      <td>47770eb9100c2d0c44946d9cf07ec65d</td>\n",
              "      <td>41ce2a54c0b03bf3443c3d931a367089</td>\n",
              "      <td>delivered</td>\n",
              "      <td>2018-08-08 08:38:49</td>\n",
              "      <td>2018-08-08 08:55:23</td>\n",
              "      <td>2018-08-08 13:50:00</td>\n",
              "      <td>2018-08-17 18:06:29</td>\n",
              "      <td>2018-09-04 00:00:00</td>\n",
              "    </tr>\n",
              "    <tr>\n",
              "      <th>3</th>\n",
              "      <td>3</td>\n",
              "      <td>949d5b44dbf5de918fe9c16f97b45f8a</td>\n",
              "      <td>f88197465ea7920adcdbec7375364d82</td>\n",
              "      <td>delivered</td>\n",
              "      <td>2017-11-18 19:28:06</td>\n",
              "      <td>2017-11-18 19:45:59</td>\n",
              "      <td>2017-11-22 13:39:59</td>\n",
              "      <td>2017-12-02 00:28:42</td>\n",
              "      <td>2017-12-15 00:00:00</td>\n",
              "    </tr>\n",
              "    <tr>\n",
              "      <th>4</th>\n",
              "      <td>4</td>\n",
              "      <td>ad21c59c0840e6cb83a9ceb5573f8159</td>\n",
              "      <td>8ab97904e6daea8866dbdbc4fb7aad2c</td>\n",
              "      <td>delivered</td>\n",
              "      <td>2018-02-13 21:18:39</td>\n",
              "      <td>2018-02-13 22:20:29</td>\n",
              "      <td>2018-02-14 19:46:34</td>\n",
              "      <td>2018-02-16 18:17:02</td>\n",
              "      <td>2018-02-26 00:00:00</td>\n",
              "    </tr>\n",
              "  </tbody>\n",
              "</table>\n",
              "</div>\n",
              "    <div class=\"colab-df-buttons\">\n",
              "\n",
              "  <div class=\"colab-df-container\">\n",
              "    <button class=\"colab-df-convert\" onclick=\"convertToInteractive('df-95d9e745-972a-4288-8408-5dd95db7b974')\"\n",
              "            title=\"Convert this dataframe to an interactive table.\"\n",
              "            style=\"display:none;\">\n",
              "\n",
              "  <svg xmlns=\"http://www.w3.org/2000/svg\" height=\"24px\" viewBox=\"0 -960 960 960\">\n",
              "    <path d=\"M120-120v-720h720v720H120Zm60-500h600v-160H180v160Zm220 220h160v-160H400v160Zm0 220h160v-160H400v160ZM180-400h160v-160H180v160Zm440 0h160v-160H620v160ZM180-180h160v-160H180v160Zm440 0h160v-160H620v160Z\"/>\n",
              "  </svg>\n",
              "    </button>\n",
              "\n",
              "  <style>\n",
              "    .colab-df-container {\n",
              "      display:flex;\n",
              "      gap: 12px;\n",
              "    }\n",
              "\n",
              "    .colab-df-convert {\n",
              "      background-color: #E8F0FE;\n",
              "      border: none;\n",
              "      border-radius: 50%;\n",
              "      cursor: pointer;\n",
              "      display: none;\n",
              "      fill: #1967D2;\n",
              "      height: 32px;\n",
              "      padding: 0 0 0 0;\n",
              "      width: 32px;\n",
              "    }\n",
              "\n",
              "    .colab-df-convert:hover {\n",
              "      background-color: #E2EBFA;\n",
              "      box-shadow: 0px 1px 2px rgba(60, 64, 67, 0.3), 0px 1px 3px 1px rgba(60, 64, 67, 0.15);\n",
              "      fill: #174EA6;\n",
              "    }\n",
              "\n",
              "    .colab-df-buttons div {\n",
              "      margin-bottom: 4px;\n",
              "    }\n",
              "\n",
              "    [theme=dark] .colab-df-convert {\n",
              "      background-color: #3B4455;\n",
              "      fill: #D2E3FC;\n",
              "    }\n",
              "\n",
              "    [theme=dark] .colab-df-convert:hover {\n",
              "      background-color: #434B5C;\n",
              "      box-shadow: 0px 1px 3px 1px rgba(0, 0, 0, 0.15);\n",
              "      filter: drop-shadow(0px 1px 2px rgba(0, 0, 0, 0.3));\n",
              "      fill: #FFFFFF;\n",
              "    }\n",
              "  </style>\n",
              "\n",
              "    <script>\n",
              "      const buttonEl =\n",
              "        document.querySelector('#df-95d9e745-972a-4288-8408-5dd95db7b974 button.colab-df-convert');\n",
              "      buttonEl.style.display =\n",
              "        google.colab.kernel.accessAllowed ? 'block' : 'none';\n",
              "\n",
              "      async function convertToInteractive(key) {\n",
              "        const element = document.querySelector('#df-95d9e745-972a-4288-8408-5dd95db7b974');\n",
              "        const dataTable =\n",
              "          await google.colab.kernel.invokeFunction('convertToInteractive',\n",
              "                                                    [key], {});\n",
              "        if (!dataTable) return;\n",
              "\n",
              "        const docLinkHtml = 'Like what you see? Visit the ' +\n",
              "          '<a target=\"_blank\" href=https://colab.research.google.com/notebooks/data_table.ipynb>data table notebook</a>'\n",
              "          + ' to learn more about interactive tables.';\n",
              "        element.innerHTML = '';\n",
              "        dataTable['output_type'] = 'display_data';\n",
              "        await google.colab.output.renderOutput(dataTable, element);\n",
              "        const docLink = document.createElement('div');\n",
              "        docLink.innerHTML = docLinkHtml;\n",
              "        element.appendChild(docLink);\n",
              "      }\n",
              "    </script>\n",
              "  </div>\n",
              "\n",
              "\n",
              "<div id=\"df-877f87db-4a26-4dcd-b8fb-72e573f3b90f\">\n",
              "  <button class=\"colab-df-quickchart\" onclick=\"quickchart('df-877f87db-4a26-4dcd-b8fb-72e573f3b90f')\"\n",
              "            title=\"Suggest charts.\"\n",
              "            style=\"display:none;\">\n",
              "\n",
              "<svg xmlns=\"http://www.w3.org/2000/svg\" height=\"24px\"viewBox=\"0 0 24 24\"\n",
              "     width=\"24px\">\n",
              "    <g>\n",
              "        <path d=\"M19 3H5c-1.1 0-2 .9-2 2v14c0 1.1.9 2 2 2h14c1.1 0 2-.9 2-2V5c0-1.1-.9-2-2-2zM9 17H7v-7h2v7zm4 0h-2V7h2v10zm4 0h-2v-4h2v4z\"/>\n",
              "    </g>\n",
              "</svg>\n",
              "  </button>\n",
              "\n",
              "<style>\n",
              "  .colab-df-quickchart {\n",
              "    background-color: #E8F0FE;\n",
              "    border: none;\n",
              "    border-radius: 50%;\n",
              "    cursor: pointer;\n",
              "    display: none;\n",
              "    fill: #1967D2;\n",
              "    height: 32px;\n",
              "    padding: 0 0 0 0;\n",
              "    width: 32px;\n",
              "  }\n",
              "\n",
              "  .colab-df-quickchart:hover {\n",
              "    background-color: #E2EBFA;\n",
              "    box-shadow: 0px 1px 2px rgba(60, 64, 67, 0.3), 0px 1px 3px 1px rgba(60, 64, 67, 0.15);\n",
              "    fill: #174EA6;\n",
              "  }\n",
              "\n",
              "  [theme=dark] .colab-df-quickchart {\n",
              "    background-color: #3B4455;\n",
              "    fill: #D2E3FC;\n",
              "  }\n",
              "\n",
              "  [theme=dark] .colab-df-quickchart:hover {\n",
              "    background-color: #434B5C;\n",
              "    box-shadow: 0px 1px 3px 1px rgba(0, 0, 0, 0.15);\n",
              "    filter: drop-shadow(0px 1px 2px rgba(0, 0, 0, 0.3));\n",
              "    fill: #FFFFFF;\n",
              "  }\n",
              "</style>\n",
              "\n",
              "  <script>\n",
              "    async function quickchart(key) {\n",
              "      const charts = await google.colab.kernel.invokeFunction(\n",
              "          'suggestCharts', [key], {});\n",
              "    }\n",
              "    (() => {\n",
              "      let quickchartButtonEl =\n",
              "        document.querySelector('#df-877f87db-4a26-4dcd-b8fb-72e573f3b90f button');\n",
              "      quickchartButtonEl.style.display =\n",
              "        google.colab.kernel.accessAllowed ? 'block' : 'none';\n",
              "    })();\n",
              "  </script>\n",
              "</div>\n",
              "    </div>\n",
              "  </div>\n"
            ]
          },
          "metadata": {},
          "execution_count": 103
        }
      ]
    },
    {
      "cell_type": "code",
      "source": [
        "#Identifikasi missing values pada kolom yang ada di table orders\n",
        "df_order_nan_counts = df_order.isna().sum()\n",
        "print(df_order_nan_counts)"
      ],
      "metadata": {
        "colab": {
          "base_uri": "https://localhost:8080/"
        },
        "id": "EORu8Qaz0fdG",
        "outputId": "24616117-cb87-4a44-f4ad-60c62a7b402c"
      },
      "execution_count": null,
      "outputs": [
        {
          "output_type": "stream",
          "name": "stdout",
          "text": [
            "index                               0\n",
            "order_id                            0\n",
            "customer_id                         0\n",
            "order_status                        0\n",
            "order_purchase_timestamp            0\n",
            "order_approved_at                 160\n",
            "order_delivered_carrier_date     1783\n",
            "order_delivered_customer_date    2965\n",
            "order_estimated_delivery_date       0\n",
            "dtype: int64\n"
          ]
        }
      ]
    },
    {
      "cell_type": "markdown",
      "source": [
        "Pada tabel order, terdapat 3 buah kolom yang memiliki missing values yaitu kolom **‘order_approved_at’**  ,             **‘order_delivered_carrier_date’** dan **‘order_delivered_customer_date’**. Selanjutnya adalah melakukan cleaning pada table **orders**. Kolom yang memiliki missing values tersebut memiliki tipe data object, maka pada tahapan cleaning dilakukan konversi menjadi format data datetime selanjutnya mencari nilai median dari kolom tersebut dan mengisikan nilai median pada data yang kosong."
      ],
      "metadata": {
        "id": "70jNAdUB0wwp"
      }
    },
    {
      "cell_type": "code",
      "source": [
        "#Konversi data pada kolom yang memiliki nilai variable waktu\n",
        "df_order['order_purchase_timestamp'] = pd.to_datetime(df_order['order_purchase_timestamp'], format='%Y-%m-%d %H:%M:%S')\n",
        "df_order['order_approved_at'] = pd.to_datetime(df_order['order_approved_at'], format='%Y-%m-%d %H:%M:%S')\n",
        "df_order['order_delivered_carrier_date'] = pd.to_datetime(df_order['order_delivered_carrier_date'], format='%Y-%m-%d %H:%M:%S')\n",
        "df_order['order_delivered_customer_date'] = pd.to_datetime(df_order['order_delivered_customer_date'], format='%Y-%m-%d %H:%M:%S')\n",
        "df_order['order_estimated_delivery_date'] = pd.to_datetime(df_order['order_estimated_delivery_date'], format='%Y-%m-%d %H:%M:%S')"
      ],
      "metadata": {
        "id": "dyXcfDmB1BS5"
      },
      "execution_count": null,
      "outputs": []
    },
    {
      "cell_type": "code",
      "source": [
        "#Identifikasi missing values pada kolom yang ada di table orders\n",
        "df_order_nan_counts = df_order.isna().sum()\n",
        "print(df_order_nan_counts)"
      ],
      "metadata": {
        "colab": {
          "base_uri": "https://localhost:8080/"
        },
        "id": "94jUxwJU0syr",
        "outputId": "2de1f1a9-4b13-487d-949b-4a85d15e6f0a"
      },
      "execution_count": null,
      "outputs": [
        {
          "output_type": "stream",
          "name": "stdout",
          "text": [
            "index                               0\n",
            "order_id                            0\n",
            "customer_id                         0\n",
            "order_status                        0\n",
            "order_purchase_timestamp            0\n",
            "order_approved_at                 160\n",
            "order_delivered_carrier_date     1783\n",
            "order_delivered_customer_date    2965\n",
            "order_estimated_delivery_date       0\n",
            "dtype: int64\n"
          ]
        }
      ]
    },
    {
      "cell_type": "code",
      "source": [
        "#imputasi data pada kolom yang memiliki missing values\n",
        "median_approved_at = df_order['order_approved_at'].median()\n",
        "df_order['order_approved_at'].fillna(median_approved_at, inplace=True)\n",
        "\n",
        "median_order_delivered_carrier_date = df_order['order_delivered_carrier_date'].median()\n",
        "df_order['order_delivered_carrier_date'].fillna(median_order_delivered_carrier_date, inplace=True)\n",
        "\n",
        "median_order_delivered_customer_date = df_order['order_delivered_customer_date'].median()\n",
        "df_order['order_delivered_customer_date'].fillna(median_order_delivered_customer_date, inplace=True)"
      ],
      "metadata": {
        "id": "E9T5UH_c3TNy"
      },
      "execution_count": null,
      "outputs": []
    },
    {
      "cell_type": "code",
      "source": [
        "#Identifikasi missing values pada kolom yang ada di table orders\n",
        "df_order_nan_counts = df_order.isna().sum()\n",
        "print(df_order_nan_counts)"
      ],
      "metadata": {
        "colab": {
          "base_uri": "https://localhost:8080/"
        },
        "id": "xAFYiCGf4LB7",
        "outputId": "5bcc6eee-4856-459f-936e-41604750d5c6"
      },
      "execution_count": null,
      "outputs": [
        {
          "output_type": "stream",
          "name": "stdout",
          "text": [
            "index                            0\n",
            "order_id                         0\n",
            "customer_id                      0\n",
            "order_status                     0\n",
            "order_purchase_timestamp         0\n",
            "order_approved_at                0\n",
            "order_delivered_carrier_date     0\n",
            "order_delivered_customer_date    0\n",
            "order_estimated_delivery_date    0\n",
            "dtype: int64\n"
          ]
        }
      ]
    },
    {
      "cell_type": "code",
      "source": [
        "#identifikasi tipe data pada kolom yang memiliki variable waktu\n",
        "print(df_order['order_purchase_timestamp'].dtype)\n",
        "print(df_order['order_approved_at'].dtype)\n",
        "print(df_order['order_delivered_carrier_date'].dtype)\n",
        "print(df_order['order_delivered_customer_date'].dtype)\n",
        "print(df_order['order_estimated_delivery_date'].dtype)"
      ],
      "metadata": {
        "colab": {
          "base_uri": "https://localhost:8080/"
        },
        "id": "NT3u78zi4_-H",
        "outputId": "eef9795d-51e5-461d-c4ac-0b1ced53d3fd"
      },
      "execution_count": null,
      "outputs": [
        {
          "output_type": "stream",
          "name": "stdout",
          "text": [
            "datetime64[ns]\n",
            "datetime64[ns]\n",
            "datetime64[ns]\n",
            "datetime64[ns]\n",
            "datetime64[ns]\n"
          ]
        }
      ]
    },
    {
      "cell_type": "code",
      "source": [
        "print(\"Nilai median yang digunakan di kolom approved_at:\", median_approved_at)\n",
        "print(\"Nilai median yang digunakan di kolom order_delivered_carrier_date:\", median_order_delivered_carrier_date)\n",
        "print(\"Nilai median yang digunakan di kolom order_delivered_customer_date:\", median_order_delivered_customer_date)"
      ],
      "metadata": {
        "colab": {
          "base_uri": "https://localhost:8080/"
        },
        "id": "We-KJyNI5gTL",
        "outputId": "637aa9e8-48cf-47d8-dfc0-c2bcb3849db3"
      },
      "execution_count": null,
      "outputs": [
        {
          "output_type": "stream",
          "name": "stdout",
          "text": [
            "Nilai median yang digunakan di kolom approved_at: 2018-01-19 11:36:13\n",
            "Nilai median yang digunakan di kolom order_delivered_carrier_date: 2018-01-24 16:10:58\n",
            "Nilai median yang digunakan di kolom order_delivered_customer_date: 2018-02-02 19:28:10.500000\n"
          ]
        }
      ]
    },
    {
      "cell_type": "markdown",
      "source": [
        "Setelah imputasi, maka tidak ada lagi kolom yang memiliki missing values. selanjutnya kita identifikasi trend kenaikan atau penurunan pendapatan dari waktu ke waktu. Langkah pertama yang dilakukan adalah dengan menggabungkan table **order_items**, **products**, **order_payments** dan **orders**."
      ],
      "metadata": {
        "id": "kmiXhdTi4Rch"
      }
    },
    {
      "cell_type": "code",
      "source": [
        "# Gabungkan table order_items, products, order_payments dan order\n",
        "df_merged = pd.merge(df_order_items, df_products, on=\"product_id\")\n",
        "df_merged = pd.merge(df_merged, df_order_payments, on=\"order_id\")\n",
        "df_merged = pd.merge(df_merged, df_order, on=\"order_id\")"
      ],
      "metadata": {
        "colab": {
          "base_uri": "https://localhost:8080/"
        },
        "id": "9PyrnGE34wZS",
        "outputId": "60307066-b86b-4b3d-d3f6-8839238433a6"
      },
      "execution_count": null,
      "outputs": [
        {
          "output_type": "stream",
          "name": "stderr",
          "text": [
            "<ipython-input-111-6eeee81bdaf5>:4: FutureWarning: Passing 'suffixes' which cause duplicate columns {'index_x'} in the result is deprecated and will raise a MergeError in a future version.\n",
            "  df_merged = pd.merge(df_merged, df_order, on=\"order_id\")\n"
          ]
        }
      ]
    },
    {
      "cell_type": "code",
      "source": [
        "#menghitung pendapatan bulanan\n",
        "monthly_revenue = df_merged.groupby(df_merged[\"order_purchase_timestamp\"].dt.to_period(\"M\"))[\"payment_value\"].sum()"
      ],
      "metadata": {
        "id": "SG0SFSjOWOtv"
      },
      "execution_count": null,
      "outputs": []
    },
    {
      "cell_type": "code",
      "source": [
        "monthly_revenue.head()"
      ],
      "metadata": {
        "colab": {
          "base_uri": "https://localhost:8080/"
        },
        "id": "-HAC8glYWRCs",
        "outputId": "b4a6d6f1-8465-4356-83a2-9d81bd405bf8"
      },
      "execution_count": null,
      "outputs": [
        {
          "output_type": "execute_result",
          "data": {
            "text/plain": [
              "order_purchase_timestamp\n",
              "2016-09       347.52\n",
              "2016-10     73914.58\n",
              "2016-12        19.62\n",
              "2017-01    187779.41\n",
              "2017-02    344134.79\n",
              "Freq: M, Name: payment_value, dtype: float64"
            ]
          },
          "metadata": {},
          "execution_count": 113
        }
      ]
    },
    {
      "cell_type": "code",
      "source": [
        "#visualisasi trend kenaikan/penuruna pendapatan bulanan\n",
        "plt.figure(figsize=(12, 6))\n",
        "monthly_revenue.plot(kind=\"line\", marker=\"o\")\n",
        "plt.title(\"Tren Kenaikan/Penurunan Pendapatan Bulanan\")\n",
        "plt.xlabel(\"Bulan\")\n",
        "plt.ylabel(\"Total Pendapatan\")\n",
        "plt.xticks(rotation=45)\n",
        "plt.tight_layout()\n",
        "plt.show()"
      ],
      "metadata": {
        "colab": {
          "base_uri": "https://localhost:8080/",
          "height": 607
        },
        "id": "ClPQJbQf6nZE",
        "outputId": "b9cff265-740e-4319-e9d9-e9dc7693bd36"
      },
      "execution_count": null,
      "outputs": [
        {
          "output_type": "display_data",
          "data": {
            "text/plain": [
              "<Figure size 1200x600 with 1 Axes>"
            ],
            "image/png": "[encoded data removed]"
          },
          "metadata": {}
        }
      ]
    },
    {
      "cell_type": "code",
      "source": [
        "highest_revenue_month = monthly_revenue.idxmax()\n",
        "highest_revenue = monthly_revenue.max()\n",
        "\n",
        "print(\"Bulan dengan Pendapatan Tertinggi:\", highest_revenue_month)\n",
        "print(\"Pendapatan Tertinggi:\", highest_revenue)\n",
        "\n",
        "lowest_revenue_month = monthly_revenue.idxmin()\n",
        "lowest_revenue = monthly_revenue.min()\n",
        "\n",
        "print(\"Bulan dengan Pendapatan Terendah:\", lowest_revenue_month)\n",
        "print(\"Pendapatan Terendah:\", lowest_revenue)"
      ],
      "metadata": {
        "colab": {
          "base_uri": "https://localhost:8080/"
        },
        "id": "5wO3YF8b7mTp",
        "outputId": "cc7b339d-d25d-423b-b016-e91fd062ecb7"
      },
      "execution_count": null,
      "outputs": [
        {
          "output_type": "stream",
          "name": "stdout",
          "text": [
            "Bulan dengan Pendapatan Tertinggi: 2017-11\n",
            "Pendapatan Tertinggi: 1583869.01\n",
            "Bulan dengan Pendapatan Terendah: 2016-12\n",
            "Pendapatan Terendah: 19.62\n"
          ]
        }
      ]
    },
    {
      "cell_type": "markdown",
      "source": [
        "Pada grafik di atas dapat dilihat trend kenaikan/penurunan pendapatan bulanan. Dapat dilihat bahwa trend mengalami **kenaikan pendapatan mulai dari desember 2016 – mei 2018** dengan **pendapatan tertinggi diperoleh pada bulan November 2017 sebesar 1.583.869,01**. **Penurunan trend pendapatan terjadi sejak juni 2018**. Untuk melihat penyebab penurunan pendapatan ini dapat dilakukan analisa produk untuk melihat apakah ada produk atau kategori tertentu yang mengalami penurunan penjualan yang signifikan. Langkah pertama adalah membuat filter untuk periode sebelum penurunan dan setelah penurunan."
      ],
      "metadata": {
        "id": "zHZ-dyxb6-ni"
      }
    },
    {
      "cell_type": "code",
      "source": [
        "# Filter data untuk periode sebelum penurunan (Desember 2016 - Mei 2018)\n",
        "before_downturn = df_merged.loc[df_merged['order_purchase_timestamp'] < '2018-06-01']\n",
        "\n",
        "# Filter data untuk periode setelah penurunan (Juni 2018 dan seterusnya)\n",
        "after_downturn = df_merged.loc[df_merged['order_purchase_timestamp'] >= '2018-06-01']"
      ],
      "metadata": {
        "id": "zCa7uZwc7fYv"
      },
      "execution_count": null,
      "outputs": []
    },
    {
      "cell_type": "code",
      "source": [
        "total_revenue_before = before_downturn['payment_value'].sum().round(3)\n",
        "total_revenue_after = after_downturn['payment_value'].sum().round(3)\n",
        "print(\"Total Pendapatan Sebelum Penurunan:\", total_revenue_before)\n",
        "print(\"Total Pendapatan Setelah Penurunan:\", total_revenue_after)"
      ],
      "metadata": {
        "colab": {
          "base_uri": "https://localhost:8080/"
        },
        "id": "lXProGSi737F",
        "outputId": "a4e841d3-153b-4946-bb92-c53e06a0b4ca"
      },
      "execution_count": null,
      "outputs": [
        {
          "output_type": "stream",
          "name": "stdout",
          "text": [
            "Total Pendapatan Sebelum Penurunan: 16429024.38\n",
            "Total Pendapatan Setelah Penurunan: 3879110.33\n"
          ]
        }
      ]
    },
    {
      "cell_type": "markdown",
      "source": [
        "Didapatkan hasil **Total Pendapatan Sebelum Penurunan sebesar 16.429.024,380** dan **total pendapatan setelah penurunan sebesar 3.879.110,33**. Selanjutnya kita ingin mengetahui produk yang mengalami kenaikan dan penurunan penjualan terbesar antara periode kenaikan dan penurunan. Langkah yang harus dilakukan adalah menghitung total pendapatan per kategori untuk masing – masing periode."
      ],
      "metadata": {
        "id": "UYNsyjJU8ren"
      }
    },
    {
      "cell_type": "code",
      "source": [
        "# Menghitung total pendapatan per kategori untuk periode before_downturn\n",
        "total_revenue_by_category_before = before_downturn.groupby(\"product_category_name\")[\"payment_value\"].sum()\n",
        "\n",
        "# Menghitung total pendapatan per kategori untuk periode after_downturn\n",
        "total_revenue_by_category_after = after_downturn.groupby(\"product_category_name\")[\"payment_value\"].sum()\n",
        "\n",
        "# Menghitung penurunan penjualan per kategori\n",
        "revenue_change_by_category = total_revenue_by_category_after - total_revenue_by_category_before"
      ],
      "metadata": {
        "id": "_9bodzKk779r"
      },
      "execution_count": null,
      "outputs": []
    },
    {
      "cell_type": "code",
      "source": [
        "# Mencari kategori dengan kenaikan penjualan terbesar\n",
        "category_with_largest_increase = revenue_change_by_category.idxmax()\n",
        "largest_increase = revenue_change_by_category.max().round(3)\n",
        "\n",
        "# Mencari kategori dengan penurunan penjualan terbesar\n",
        "category_with_largest_decrease = revenue_change_by_category.idxmin()\n",
        "largest_decrease = revenue_change_by_category.min().round(3)\n",
        "\n",
        "print(\"Kategori dengan Kenaikan Terbesar:\", category_with_largest_increase)\n",
        "print(\"Kenaikan Terbesar:\", largest_increase)\n",
        "\n",
        "print(\"Kategori dengan Penurunan Terbesar:\", category_with_largest_decrease)\n",
        "print(\"Penurunan Terbesar:\", largest_decrease)"
      ],
      "metadata": {
        "colab": {
          "base_uri": "https://localhost:8080/"
        },
        "id": "jOmHui2g8K7E",
        "outputId": "ffe16355-93ed-442f-f26e-e702e9d24ffb"
      },
      "execution_count": null,
      "outputs": [
        {
          "output_type": "stream",
          "name": "stdout",
          "text": [
            "Kategori dengan Kenaikan Terbesar: sinalizacao_e_seguranca\n",
            "Kenaikan Terbesar: 30984.67\n",
            "Kategori dengan Penurunan Terbesar: informatica_acessorios\n",
            "Penurunan Terbesar: -1200703.53\n"
          ]
        }
      ]
    },
    {
      "cell_type": "markdown",
      "source": [
        "Didapatkan bahwa kenaikan penjualan terbesar didapatkan oleh **kategori sinalizacao_e_seguranca** dengan kenaikan sebesar **30.984,67** dan penurunan penjualan terbesar didapatkan oleh **kategori informatica_acessorios** dengan penurunan sebesar **-1.200.703,53**. Selanjutnya kita perlu mengetahui produk apa yang memberikan kontribusi terbesar pada pendapatan penjualan saat periode before_downturn dan after_downturn. Hal pertama yang kita lakukan adalah menghitung total pendapatan per produk untuk masing – masing periode."
      ],
      "metadata": {
        "id": "lrgDEgjn8n5s"
      }
    },
    {
      "cell_type": "code",
      "source": [
        "# Menghitung total pendapatan per produk untuk periode before_downturn\n",
        "total_revenue_by_product_before = before_downturn.groupby(\"product_id\")[\"payment_value\"].sum()\n",
        "\n",
        "# Menghitung total pendapatan per produk untuk periode after_downturn\n",
        "total_revenue_by_product_after = after_downturn.groupby(\"product_id\")[\"payment_value\"].sum()"
      ],
      "metadata": {
        "id": "fWeLq4mg9ZzN"
      },
      "execution_count": null,
      "outputs": []
    },
    {
      "cell_type": "code",
      "source": [
        "# Mencari produk dengan kontribusi terbesar pada pendapatan untuk periode before_downturn\n",
        "product_with_largest_contribution_before = total_revenue_by_product_before.idxmax()\n",
        "largest_contribution_before = total_revenue_by_product_before.max().round(3)\n",
        "\n",
        "# Mencari produk dengan kontribusi terbesar pada pendapatan untuk periode after_downturn\n",
        "product_with_largest_contribution_after = total_revenue_by_product_after.idxmax()\n",
        "largest_contribution_after = total_revenue_by_product_after.max().round(3)\n",
        "\n",
        "print(\"Produk dengan Kontribusi Terbesar sebelum Penurunan:\", product_with_largest_contribution_before)\n",
        "print(\"Kontribusi Terbesar sebelum Penurunan:\", largest_contribution_before)\n",
        "\n",
        "print(\"Produk dengan Kontribusi Terbesar setelah Penurunan:\", product_with_largest_contribution_after)\n",
        "print(\"Kontribusi Terbesar setelah Penurunan:\", largest_contribution_after)"
      ],
      "metadata": {
        "colab": {
          "base_uri": "https://localhost:8080/"
        },
        "id": "zHECho2u9ehX",
        "outputId": "e72096b5-ab68-4f4f-db1a-e8a144f11f24"
      },
      "execution_count": null,
      "outputs": [
        {
          "output_type": "stream",
          "name": "stdout",
          "text": [
            "Produk dengan Kontribusi Terbesar sebelum Penurunan: 5769ef0a239114ac3a854af00df129e4\n",
            "Kontribusi Terbesar sebelum Penurunan: 109312.64\n",
            "Produk dengan Kontribusi Terbesar setelah Penurunan: e7cc48a9daff5436f63d3aad9426f28b\n",
            "Kontribusi Terbesar setelah Penurunan: 45469.84\n"
          ]
        }
      ]
    },
    {
      "cell_type": "code",
      "source": [
        "table_category_name = 'product_category_name_translation'\n",
        "# Query to retrieve data from the specified table\n",
        "query = f\"SELECT * FROM {table_category_name}\"\n",
        "\n",
        "# Read data into a DataFrame\n",
        "df_category_name = pd.read_sql(query, conn)\n"
      ],
      "metadata": {
        "id": "Jc7aBrMV-uER"
      },
      "execution_count": null,
      "outputs": []
    },
    {
      "cell_type": "code",
      "source": [
        "# Gabungkan data produk dengan data kategori\n",
        "df_products_with_category = pd.merge(df_products, df_category_name, on=\"product_category_name\")\n",
        "def find_product_category(product_id):\n",
        "    # Mencari kategori produk dengan ID tertentu\n",
        "    category_of_product = df_products_with_category[df_products_with_category[\"product_id\"] == product_id][\"product_category_name_english\"].iloc[0]\n",
        "    return category_of_product"
      ],
      "metadata": {
        "id": "E1yMED4Z9_Jn"
      },
      "execution_count": null,
      "outputs": []
    },
    {
      "cell_type": "code",
      "source": [
        "# ID produk yang ingin dicari kategori nya\n",
        "product_id_to_find = \"5769ef0a239114ac3a854af00df129e4\"\n",
        "\n",
        "# Memanggil fungsi dan mencetak hasil\n",
        "category_of_product = find_product_category(product_id_to_find)\n",
        "print(\"Kategori Produk dengan ID\", product_id_to_find, \"adalah:\", category_of_product)"
      ],
      "metadata": {
        "colab": {
          "base_uri": "https://localhost:8080/"
        },
        "id": "v2FiVUXb-Fa1",
        "outputId": "2f6bc205-fc43-4180-a5dd-cd3f4315781e"
      },
      "execution_count": null,
      "outputs": [
        {
          "output_type": "stream",
          "name": "stdout",
          "text": [
            "Kategori Produk dengan ID 5769ef0a239114ac3a854af00df129e4 adalah: fixed_telephony\n"
          ]
        }
      ]
    },
    {
      "cell_type": "code",
      "source": [
        "# ID produk yang ingin dicari kategori nya\n",
        "product_id_to_find = \"e7cc48a9daff5436f63d3aad9426f28b\"\n",
        "\n",
        "# Memanggil fungsi dan mencetak hasil\n",
        "category_of_product = find_product_category(product_id_to_find)\n",
        "print(\"Kategori Produk dengan ID\", product_id_to_find, \"adalah:\", category_of_product)"
      ],
      "metadata": {
        "colab": {
          "base_uri": "https://localhost:8080/"
        },
        "id": "45Qys2Xl-02G",
        "outputId": "c6700f28-c7c8-4565-c3f3-5d8461c59051"
      },
      "execution_count": null,
      "outputs": [
        {
          "output_type": "stream",
          "name": "stdout",
          "text": [
            "Kategori Produk dengan ID e7cc48a9daff5436f63d3aad9426f28b adalah: telephony\n"
          ]
        }
      ]
    },
    {
      "cell_type": "markdown",
      "source": [
        "Produk dengan Kontribusi Terbesar sebelum Penurunan adalah **5769ef0a239114ac3a854af00df129e4** yang masuk pada kategori **fixed_telephony** dengan Kontribusi Terbesar pada pendapatan sebelum terjadi trend Penurunan sebesar 109.312,64. Sedangkan, produk dengan kontribusi terbesar pada pendapatan setelah terjadi trend penurunan adalah **e7cc48a9daff5436f63d3aad9426f28b** yang masuk pada kategori **telephony** dengan kontribusi terbesar pada pendapatan setelah terjadi trend penurunan sebesar **45.469,84**\n"
      ],
      "metadata": {
        "id": "cirHetU8_KtJ"
      }
    },
    {
      "cell_type": "code",
      "source": [
        "# ID produk yang ingin dicari deskripsinya\n",
        "product_id_to_find = \"e7cc48a9daff5436f63d3aad9426f28b\"\n",
        "\n",
        "# Filter DataFrame berdasarkan ID produk\n",
        "product_description = df_products[df_products[\"product_id\"] == product_id_to_find][\"product_description_lenght\"].iloc[0]\n",
        "\n",
        "print(\"Deskripsi Produk dengan ID\", product_id_to_find, \"adalah:\", product_description)\n"
      ],
      "metadata": {
        "colab": {
          "base_uri": "https://localhost:8080/"
        },
        "id": "1RgTLDEaew8R",
        "outputId": "711ccaab-0f98-464a-eeb8-52db71440cd3"
      },
      "execution_count": null,
      "outputs": [
        {
          "output_type": "stream",
          "name": "stdout",
          "text": [
            "Deskripsi Produk dengan ID e7cc48a9daff5436f63d3aad9426f28b adalah: 1500.0\n"
          ]
        }
      ]
    },
    {
      "cell_type": "markdown",
      "source": [
        "Selanjutnya kita perlu mencari kategori mana produk yang memberikan kontribusi terbesar pada pendapatan penjualan saat periode before_downturn dan after_downturn. Kita dapat langsung menghitung pendapatan per kategori pada periode before_downturn dan after_downturn."
      ],
      "metadata": {
        "id": "zDvHfYUcAqyh"
      }
    },
    {
      "cell_type": "code",
      "source": [
        "# Menghitung total pendapatan per kategori untuk periode before_downturn\n",
        "total_revenue_by_category_before = before_downturn.groupby(\"product_category_name\")[\"payment_value\"].sum()\n",
        "\n",
        "# Menghitung total pendapatan per kategori untuk periode after_downturn\n",
        "total_revenue_by_category_after = after_downturn.groupby(\"product_category_name\")[\"payment_value\"].sum()"
      ],
      "metadata": {
        "id": "aZqT_l6FAiue"
      },
      "execution_count": null,
      "outputs": []
    },
    {
      "cell_type": "code",
      "source": [
        "# Mencari kategori dengan kontribusi terbesar pada pendapatan untuk periode before_downturn\n",
        "category_with_largest_contribution_before = total_revenue_by_category_before.idxmax()\n",
        "largest_contribution_before = total_revenue_by_category_before.max()\n",
        "\n",
        "# Mencari kategori dengan kontribusi terbesar pada pendapatan untuk periode after_downturn\n",
        "category_with_largest_contribution_after = total_revenue_by_category_after.idxmax()\n",
        "largest_contribution_after = total_revenue_by_category_after.max()\n",
        "\n",
        "print(\"Kategori dengan Kontribusi Terbesar sebelum Penurunan:\", category_with_largest_contribution_before)\n",
        "print(\"Kontribusi Terbesar sebelum Penurunan:\", largest_contribution_before)\n",
        "\n",
        "print(\"Kategori dengan Kontribusi Terbesar setelah Penurunan:\", category_with_largest_contribution_after)\n",
        "print(\"Kontribusi Terbesar setelah Penurunan:\", largest_contribution_after)"
      ],
      "metadata": {
        "colab": {
          "base_uri": "https://localhost:8080/"
        },
        "id": "7JjRZe-LBRCE",
        "outputId": "f8719172-f65a-4a49-a67b-ec7ba0f12558"
      },
      "execution_count": null,
      "outputs": [
        {
          "output_type": "stream",
          "name": "stdout",
          "text": [
            "Kategori dengan Kontribusi Terbesar sebelum Penurunan: cama_mesa_banho\n",
            "Kontribusi Terbesar sebelum Penurunan: 1396714.75\n",
            "Kategori dengan Kontribusi Terbesar setelah Penurunan: beleza_saude\n",
            "Kontribusi Terbesar setelah Penurunan: 451610.27\n"
          ]
        }
      ]
    },
    {
      "cell_type": "markdown",
      "source": [
        "Kategori **cama_mesa_banho** memberikan kontribusi terbesar dalam hal pendapatan penjualan sebelum periode penurunan yaitu sebesar 1.396.714,75 dan kategori **beleza_saude** memberikan kontribusi terbesar dalam hal pendapatan penjualan setelah periode penurunan yaitu sebesar 451.610,27"
      ],
      "metadata": {
        "id": "Ep9n8yikByyf"
      }
    },
    {
      "cell_type": "markdown",
      "source": [
        "Selanjutnya kita perlu mengidentifikasi daerah yang  memberikan kontribusi terbesar pada penjualan. Untuk melakukan hal tersebut perlu menggabungkan beberapa tabel yaitu (**order_items**, **order_payments**, **order_customer** dan **geolocation**). Karena data nya terlalu besar dan saya tidak bisa menjalankan nya di komputer atau menggunakan google colab, maka saya lakukan sampling pada data tersebut menjadi 30%. Sampling dilakukan secara random dan hanya mengambil 30% dari data keseluruhan. Sebelum melakukan analisa tersebut, kita periksa dulu table **order_customer** dan **geolocation**."
      ],
      "metadata": {
        "id": "DjY9Yv60CHBX"
      }
    },
    {
      "cell_type": "code",
      "source": [
        "table_name = 'olist_order_customer_dataset'\n",
        "\n",
        "# Query to retrieve data from the specified table\n",
        "query = f\"SELECT * FROM {table_name}\"\n",
        "\n",
        "# Read data into a DataFrame\n",
        "df_order_customer = pd.read_sql(query, conn)\n",
        "df_order_customer_nan_counts = df_order_customer.isna().sum()\n",
        "print(df_order_customer_nan_counts)"
      ],
      "metadata": {
        "colab": {
          "base_uri": "https://localhost:8080/"
        },
        "id": "K09i0wKgCeuy",
        "outputId": "6e08df57-0724-4c41-84fc-89fcd4e19829"
      },
      "execution_count": null,
      "outputs": [
        {
          "output_type": "stream",
          "name": "stdout",
          "text": [
            "index                       0\n",
            "customer_id                 0\n",
            "customer_unique_id          0\n",
            "customer_zip_code_prefix    0\n",
            "customer_city               0\n",
            "customer_state              0\n",
            "dtype: int64\n"
          ]
        }
      ]
    },
    {
      "cell_type": "code",
      "source": [
        "table_geolocation = 'olist_geolocation_dataset'\n",
        "# Query to retrieve data from the specified table\n",
        "query = f\"SELECT * FROM {table_geolocation}\"\n",
        "\n",
        "# Read data into a DataFrame\n",
        "df_geolocation = pd.read_sql(query, conn)\n",
        "\n",
        "df_geolocation_nan_counts = df_geolocation.isna().sum()\n",
        "print(df_geolocation_nan_counts)"
      ],
      "metadata": {
        "colab": {
          "base_uri": "https://localhost:8080/"
        },
        "id": "DqjiPO_9ComN",
        "outputId": "aad1bd1b-13ce-47dc-b7e2-7ad9a2558a71"
      },
      "execution_count": null,
      "outputs": [
        {
          "output_type": "stream",
          "name": "stdout",
          "text": [
            "index                          0\n",
            "geolocation_zip_code_prefix    0\n",
            "geolocation_lat                0\n",
            "geolocation_lng                0\n",
            "geolocation_city               0\n",
            "geolocation_state              0\n",
            "dtype: int64\n"
          ]
        }
      ]
    },
    {
      "cell_type": "markdown",
      "source": [
        "Karena pada table order_customer dan geolocation tidak memiliki kolom yang terdapat missing values. Selanjutnya dapat dihitung total pendapatan per daerah selanjutnya adalah mencari daerah dengan kontribusi terbesar pada pendapatan penjualan. Didaptkan daerah yang memberikan kontribusi total pendapatan terbesar adalah **Rio de Janeiro**"
      ],
      "metadata": {
        "id": "ReG_K84eDN6t"
      }
    },
    {
      "cell_type": "code",
      "source": [
        "# Mengambil contoh data (misalnya, 30% dari total data)\n",
        "sample_size = int(len(df_merged) * 0.3)\n",
        "df_sample = df_merged.sample(sample_size)\n",
        "\n",
        "# Menggabungkan data penjualan dengan data pelanggan berdasarkan customer_id\n",
        "df_sales_with_customer = pd.merge(df_sample, df_order_customer, on=\"customer_id\", how=\"left\")\n",
        "\n",
        "# Menggabungkan data penjualan dengan data lokasi berdasarkan customer_zip_code_prefix\n",
        "df_sales_with_location = pd.merge(df_sales_with_customer, df_geolocation, left_on=\"customer_zip_code_prefix\", right_on=\"geolocation_zip_code_prefix\", how=\"left\")\n",
        "\n",
        "# Menghitung total pendapatan per daerah\n",
        "total_revenue_by_location = df_sales_with_location.groupby([\"geolocation_city\", \"geolocation_state\"])[\"payment_value\"].sum()\n",
        "\n",
        "# Mencari daerah dengan kontribusi terbesar pada pendapatan\n",
        "location_with_largest_contribution = total_revenue_by_location.idxmax()\n",
        "largest_contribution = total_revenue_by_location.max()\n",
        "\n",
        "print(\"Daerah dengan Kontribusi Terbesar:\", location_with_largest_contribution)\n",
        "print(\"Kontribusi Terbesar:\", largest_contribution)"
      ],
      "metadata": {
        "colab": {
          "base_uri": "https://localhost:8080/"
        },
        "id": "KZesiE6PCbk0",
        "outputId": "f0a50056-b6e3-4688-f553-9faa0e22428c"
      },
      "execution_count": null,
      "outputs": [
        {
          "output_type": "stream",
          "name": "stderr",
          "text": [
            "<ipython-input-131-f7d3ada1816f>:9: FutureWarning: Passing 'suffixes' which cause duplicate columns {'index_x'} in the result is deprecated and will raise a MergeError in a future version.\n",
            "  df_sales_with_location = pd.merge(df_sales_with_customer, df_geolocation, left_on=\"customer_zip_code_prefix\", right_on=\"geolocation_zip_code_prefix\", how=\"left\")\n"
          ]
        },
        {
          "output_type": "stream",
          "name": "stdout",
          "text": [
            "Daerah dengan Kontribusi Terbesar: ('rio de janeiro', 'RJ')\n",
            "Kontribusi Terbesar: 134723349.19\n"
          ]
        }
      ]
    }
  ]
}